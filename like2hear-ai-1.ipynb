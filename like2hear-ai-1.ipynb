{
 "cells": [
  {
   "cell_type": "markdown",
   "metadata": {},
   "source": [
    "# LikeToHear AI\n",
    "liketohear-ai is a prototype that was created in the course of the Hack4Ear Hackathon, organized by Fraunhofer IDMT. It is a first draft for the automatic self-fitting of hearing aids. The device learns from the user's feedback and makes suggestions for different sound situations.\n",
    "\n",
    "**How it works**\n",
    "\n",
    "To adjust the listening experience, the user uses the new liketohear technology, with which he can conveniently adjust parameters such as gain and timbre using the mobile phone app.\n",
    "\n",
    "A machine learning model learns from this feedback and gives the user more and more suitable suggestions over time by learning from his preferences for corresponding situations."
   ]
  },
  {
   "cell_type": "markdown",
   "metadata": {
    "ExecuteTime": {
     "end_time": "2019-11-19T12:15:05.310174Z",
     "start_time": "2019-11-19T12:15:05.303334Z"
    }
   },
   "source": [
    "## First Data analysis of spectral data"
   ]
  },
  {
   "cell_type": "markdown",
   "metadata": {},
   "source": [
    "### Data Preparation\n"
   ]
  },
  {
   "cell_type": "code",
   "execution_count": 1,
   "metadata": {
    "ExecuteTime": {
     "end_time": "2019-11-19T11:31:08.229272Z",
     "start_time": "2019-11-19T11:31:07.483609Z"
    }
   },
   "outputs": [],
   "source": [
    "import pandas as pd\n",
    "import json\n",
    "import re\n",
    "import matplotlib.pyplot as plt\n",
    "import seaborn as sns\n",
    "import numpy as np\n",
    "import math"
   ]
  },
  {
   "cell_type": "code",
   "execution_count": 2,
   "metadata": {
    "ExecuteTime": {
     "end_time": "2019-11-19T11:31:08.670310Z",
     "start_time": "2019-11-19T11:31:08.657981Z"
    }
   },
   "outputs": [],
   "source": [
    "def get_decibels(msg):\n",
    "    levelsum = lambda x: 10**(float(x)/10) #function to add acoustic levels of sound sources\n",
    "    if \"RMS level in dB\" in msg:\n",
    "        decibels_str_list=re.findall(\"\\\\[[^\\\\]]*]\",msg)[0][1:-1].split()\n",
    "        decibels={str(k+1):float(v) for (k,v) in enumerate(decibels_str_list)}\n",
    "\n",
    "        #decibels[\"sound pressure level\"]=sum(decibels.values())\n",
    "        decibels[\"sound pressure level\"]=10*math.log10(sum(map(levelsum,decibels.values())))\n",
    "    else:\n",
    "        print(\"unknown message: \"+str(msg))\n",
    "        decibels={}\n",
    "    return decibels\n",
    "    \n",
    "def parse_file(file):\n",
    "    with open(file) as f:\n",
    "        j=json.load(f)\n",
    "        \n",
    "    measures=[]\n",
    "    cur_presetx=0\n",
    "    cur_presety=0\n",
    "    cur_el={}\n",
    "    for el in j:\n",
    "        if \"data\" in el:\n",
    "            if \"presetx\" in el[\"data\"] and \"presety\" in el[\"data\"]:\n",
    "                cur_el[\"presetx\"]=el[\"data\"][\"presetx\"]\n",
    "                cur_el[\"presety\"]=el[\"data\"][\"presety\"]\n",
    "                measures+=[cur_el]    \n",
    "            else: #intensity data\n",
    "                decibels=get_decibels(el[\"msg\"])\n",
    "                el.update(decibels)\n",
    "                cur_el=el\n",
    "    return pd.DataFrame(measures)\n",
    "        \n",
    "            \n",
    "            "
   ]
  },
  {
   "cell_type": "code",
   "execution_count": 3,
   "metadata": {
    "ExecuteTime": {
     "end_time": "2019-11-19T11:48:35.057793Z",
     "start_time": "2019-11-19T11:48:34.473812Z"
    },
    "scrolled": true
   },
   "outputs": [
    {
     "name": "stdout",
     "output_type": "stream",
     "text": [
      "unknown message: openMHACtrl started\n",
      "unknown message: openMHACtrl started\n",
      "unknown message: openMHACtrl stopped\n",
      "unknown message: openMHACtrl started\n",
      "unknown message: openMHACtrl stopped\n",
      "unknown message: openMHACtrl started\n",
      "unknown message: openMHACtrl stopped\n",
      "unknown message: openMHACtrl started\n",
      "unknown message: openMHACtrl started\n",
      "unknown message: openMHACtrl started\n",
      "unknown message: openMHACtrl started\n",
      "unknown message: openMHACtrl started\n",
      "unknown message: openMHACtrl started\n",
      "unknown message: openMHACtrl started\n",
      "unknown message: openMHACtrl started\n",
      "unknown message: openMHACtrl started\n",
      "unknown message: openMHACtrl started\n",
      "unknown message: openMHACtrl started\n",
      "unknown message: openMHACtrl started\n"
     ]
    },
    {
     "data": {
      "text/html": [
       "<div>\n",
       "<style scoped>\n",
       "    .dataframe tbody tr th:only-of-type {\n",
       "        vertical-align: middle;\n",
       "    }\n",
       "\n",
       "    .dataframe tbody tr th {\n",
       "        vertical-align: top;\n",
       "    }\n",
       "\n",
       "    .dataframe thead th {\n",
       "        text-align: right;\n",
       "    }\n",
       "</style>\n",
       "<table border=\"1\" class=\"dataframe\">\n",
       "  <thead>\n",
       "    <tr style=\"text-align: right;\">\n",
       "      <th></th>\n",
       "      <th>msg</th>\n",
       "      <th>data</th>\n",
       "      <th>date</th>\n",
       "      <th>userid</th>\n",
       "      <th>1</th>\n",
       "      <th>2</th>\n",
       "      <th>3</th>\n",
       "      <th>4</th>\n",
       "      <th>5</th>\n",
       "      <th>6</th>\n",
       "      <th>7</th>\n",
       "      <th>8</th>\n",
       "      <th>9</th>\n",
       "      <th>10</th>\n",
       "      <th>11</th>\n",
       "      <th>12</th>\n",
       "      <th>sound pressure level</th>\n",
       "      <th>presetx</th>\n",
       "      <th>presety</th>\n",
       "    </tr>\n",
       "  </thead>\n",
       "  <tbody>\n",
       "    <tr>\n",
       "      <th>0</th>\n",
       "      <td># RMS level in dB\\n# vector&lt;float&gt; (monitor)\\n...</td>\n",
       "      <td>[]</td>\n",
       "      <td>2019-06-16 14:58:34</td>\n",
       "      <td>SE05CE22</td>\n",
       "      <td>69.204376</td>\n",
       "      <td>48.068005</td>\n",
       "      <td>41.675263</td>\n",
       "      <td>41.219086</td>\n",
       "      <td>35.625729</td>\n",
       "      <td>32.635876</td>\n",
       "      <td>64.508827</td>\n",
       "      <td>50.213528</td>\n",
       "      <td>44.078980</td>\n",
       "      <td>44.156056</td>\n",
       "      <td>35.884479</td>\n",
       "      <td>35.619373</td>\n",
       "      <td>70.573560</td>\n",
       "      <td>5</td>\n",
       "      <td>5</td>\n",
       "    </tr>\n",
       "    <tr>\n",
       "      <th>1</th>\n",
       "      <td># RMS level in dB\\n# vector&lt;float&gt; (monitor)\\n...</td>\n",
       "      <td>[]</td>\n",
       "      <td>2019-06-16 14:58:35</td>\n",
       "      <td>SE05CE22</td>\n",
       "      <td>60.891640</td>\n",
       "      <td>57.948959</td>\n",
       "      <td>44.206162</td>\n",
       "      <td>50.713211</td>\n",
       "      <td>50.885311</td>\n",
       "      <td>30.489567</td>\n",
       "      <td>60.643433</td>\n",
       "      <td>47.117806</td>\n",
       "      <td>44.269424</td>\n",
       "      <td>51.155453</td>\n",
       "      <td>43.780674</td>\n",
       "      <td>38.636864</td>\n",
       "      <td>65.464183</td>\n",
       "      <td>5</td>\n",
       "      <td>5</td>\n",
       "    </tr>\n",
       "    <tr>\n",
       "      <th>2</th>\n",
       "      <td># RMS level in dB\\n# vector&lt;float&gt; (monitor)\\n...</td>\n",
       "      <td>[]</td>\n",
       "      <td>2019-06-16 14:58:36</td>\n",
       "      <td>SE05CE22</td>\n",
       "      <td>59.483269</td>\n",
       "      <td>47.487274</td>\n",
       "      <td>40.958046</td>\n",
       "      <td>47.091606</td>\n",
       "      <td>33.074066</td>\n",
       "      <td>32.804009</td>\n",
       "      <td>57.889145</td>\n",
       "      <td>41.047890</td>\n",
       "      <td>43.665131</td>\n",
       "      <td>45.888092</td>\n",
       "      <td>32.704887</td>\n",
       "      <td>30.773039</td>\n",
       "      <td>62.315670</td>\n",
       "      <td>5</td>\n",
       "      <td>5</td>\n",
       "    </tr>\n",
       "    <tr>\n",
       "      <th>3</th>\n",
       "      <td># RMS level in dB\\n# vector&lt;float&gt; (monitor)\\n...</td>\n",
       "      <td>[]</td>\n",
       "      <td>2019-06-16 14:58:37</td>\n",
       "      <td>SE05CE22</td>\n",
       "      <td>63.308010</td>\n",
       "      <td>55.094208</td>\n",
       "      <td>45.193943</td>\n",
       "      <td>39.928375</td>\n",
       "      <td>35.323475</td>\n",
       "      <td>27.942699</td>\n",
       "      <td>62.211937</td>\n",
       "      <td>52.164001</td>\n",
       "      <td>47.498707</td>\n",
       "      <td>41.960297</td>\n",
       "      <td>33.787655</td>\n",
       "      <td>28.658691</td>\n",
       "      <td>66.450090</td>\n",
       "      <td>5</td>\n",
       "      <td>5</td>\n",
       "    </tr>\n",
       "    <tr>\n",
       "      <th>4</th>\n",
       "      <td># RMS level in dB\\n# vector&lt;float&gt; (monitor)\\n...</td>\n",
       "      <td>[]</td>\n",
       "      <td>2019-06-16 14:58:38</td>\n",
       "      <td>SE05CE22</td>\n",
       "      <td>69.323242</td>\n",
       "      <td>68.280571</td>\n",
       "      <td>65.318649</td>\n",
       "      <td>61.703247</td>\n",
       "      <td>37.130554</td>\n",
       "      <td>35.503925</td>\n",
       "      <td>72.684418</td>\n",
       "      <td>76.121513</td>\n",
       "      <td>72.251656</td>\n",
       "      <td>64.250496</td>\n",
       "      <td>44.501244</td>\n",
       "      <td>39.055016</td>\n",
       "      <td>79.963623</td>\n",
       "      <td>5</td>\n",
       "      <td>5</td>\n",
       "    </tr>\n",
       "  </tbody>\n",
       "</table>\n",
       "</div>"
      ],
      "text/plain": [
       "                                                 msg data                date  \\\n",
       "0  # RMS level in dB\\n# vector<float> (monitor)\\n...   [] 2019-06-16 14:58:34   \n",
       "1  # RMS level in dB\\n# vector<float> (monitor)\\n...   [] 2019-06-16 14:58:35   \n",
       "2  # RMS level in dB\\n# vector<float> (monitor)\\n...   [] 2019-06-16 14:58:36   \n",
       "3  # RMS level in dB\\n# vector<float> (monitor)\\n...   [] 2019-06-16 14:58:37   \n",
       "4  # RMS level in dB\\n# vector<float> (monitor)\\n...   [] 2019-06-16 14:58:38   \n",
       "\n",
       "     userid          1          2          3          4          5          6  \\\n",
       "0  SE05CE22  69.204376  48.068005  41.675263  41.219086  35.625729  32.635876   \n",
       "1  SE05CE22  60.891640  57.948959  44.206162  50.713211  50.885311  30.489567   \n",
       "2  SE05CE22  59.483269  47.487274  40.958046  47.091606  33.074066  32.804009   \n",
       "3  SE05CE22  63.308010  55.094208  45.193943  39.928375  35.323475  27.942699   \n",
       "4  SE05CE22  69.323242  68.280571  65.318649  61.703247  37.130554  35.503925   \n",
       "\n",
       "           7          8          9         10         11         12  \\\n",
       "0  64.508827  50.213528  44.078980  44.156056  35.884479  35.619373   \n",
       "1  60.643433  47.117806  44.269424  51.155453  43.780674  38.636864   \n",
       "2  57.889145  41.047890  43.665131  45.888092  32.704887  30.773039   \n",
       "3  62.211937  52.164001  47.498707  41.960297  33.787655  28.658691   \n",
       "4  72.684418  76.121513  72.251656  64.250496  44.501244  39.055016   \n",
       "\n",
       "   sound pressure level  presetx  presety  \n",
       "0             70.573560        5        5  \n",
       "1             65.464183        5        5  \n",
       "2             62.315670        5        5  \n",
       "3             66.450090        5        5  \n",
       "4             79.963623        5        5  "
      ]
     },
     "execution_count": 3,
     "metadata": {},
     "output_type": "execute_result"
    }
   ],
   "source": [
    "  \n",
    "df=pd.DataFrame(parse_file(\"2019-08-15_KA06AN17.log\"))\n",
    "\n",
    "df[\"date\"]=pd.to_datetime(df[\"date\"])\n",
    "df.head()"
   ]
  },
  {
   "cell_type": "markdown",
   "metadata": {
    "ExecuteTime": {
     "end_time": "2019-10-28T15:40:44.092677Z",
     "start_time": "2019-10-28T15:40:44.069759Z"
    }
   },
   "source": [
    "## Results Analysis"
   ]
  },
  {
   "cell_type": "markdown",
   "metadata": {},
   "source": [
    "Show unique user IDs contained in the dataset."
   ]
  },
  {
   "cell_type": "code",
   "execution_count": 4,
   "metadata": {
    "ExecuteTime": {
     "end_time": "2019-11-19T12:07:56.659551Z",
     "start_time": "2019-11-19T12:07:56.645811Z"
    }
   },
   "outputs": [
    {
     "name": "stdout",
     "output_type": "stream",
     "text": [
      "Unique users Ids\n"
     ]
    },
    {
     "data": {
      "text/plain": [
       "{'42', 'CH6US22', 'DefaultUser', 'KA06AN17', 'SE05CE22', 'Silke'}"
      ]
     },
     "execution_count": 4,
     "metadata": {},
     "output_type": "execute_result"
    }
   ],
   "source": [
    "print(\"Unique users Ids\")\n",
    "set(df[\"userid\"])"
   ]
  },
  {
   "cell_type": "code",
   "execution_count": 5,
   "metadata": {
    "ExecuteTime": {
     "end_time": "2019-11-19T12:07:57.541963Z",
     "start_time": "2019-11-19T12:07:57.529557Z"
    }
   },
   "outputs": [],
   "source": [
    "user_df=df[df[\"userid\"]==\"SE05CE22\"]\n",
    "UserID=\"SE05CE22\""
   ]
  },
  {
   "cell_type": "code",
   "execution_count": 6,
   "metadata": {
    "ExecuteTime": {
     "end_time": "2019-11-19T12:07:58.511013Z",
     "start_time": "2019-11-19T12:07:58.495612Z"
    }
   },
   "outputs": [],
   "source": [
    "def plot_timeseries(user_df):\n",
    "    channel=\"sound pressure level\"\n",
    "    plt.subplot(411)\n",
    "    plt.title(\"UserID \"+UserID+\" Input - Intensity Value for channel \"+channel)\n",
    "    plt.plot(user_df[\"date\"],user_df[channel])\n",
    "    plt.tight_layout()\n",
    "    #plt.show()\n",
    "    plt.subplot(412)\n",
    "    plt.plot(user_df[\"date\"],user_df[\"presetx\"])\n",
    "    plt.title(\"Response - X Value (tonal color)\")\n",
    "    plt.subplot(413)\n",
    "    plt.title(\"Response - Y Value (Amplification)\")\n",
    "    plt.plot(user_df[\"date\"],user_df[\"presety\"])\n",
    "\n",
    "    plt.subplot(414)\n",
    "    from scipy.signal import savgol_filter\n",
    "    y_smooth = savgol_filter(user_df[\"5\"], 51, 2)\n",
    "    plt.plot(user_df[\"date\"],y_smooth)\n",
    "    plt.title(\"Savitzky-Golay Filter (Glättung)\")\n",
    "    \n",
    "    fig = plt.gcf()\n",
    "    fig.set_size_inches(8,6)\n",
    "    fig.savefig(UserID+'_timeseries.png', dpi=120)\n",
    "\n",
    "    \n",
    "def plot_details(users):\n",
    "    for user in users:\n",
    "        user_df=df[df[\"userid\"]==user]\n",
    "        plot_timeseries(user_df)\n"
   ]
  },
  {
   "cell_type": "code",
   "execution_count": 8,
   "metadata": {
    "ExecuteTime": {
     "end_time": "2019-11-19T12:08:00.257029Z",
     "start_time": "2019-11-19T12:07:59.347898Z"
    }
   },
   "outputs": [
    {
     "data": {
      "image/png": "[encoded data removed]",
      "text/plain": [
       "<Figure size 576x432 with 4 Axes>"
      ]
     },
     "metadata": {
      "needs_background": "light"
     },
     "output_type": "display_data"
    }
   ],
   "source": [
    "plot_details([UserID])"
   ]
  },
  {
   "cell_type": "markdown",
   "metadata": {},
   "source": [
    "The X and Y time series plots seem to be correlated. The dynamics of the response evolves on multiple timescales."
   ]
  },
  {
   "cell_type": "markdown",
   "metadata": {},
   "source": [
    "### Relation Analysis of Spectrogram and Responses"
   ]
  },
  {
   "cell_type": "code",
   "execution_count": 9,
   "metadata": {
    "ExecuteTime": {
     "end_time": "2019-11-19T12:08:04.370956Z",
     "start_time": "2019-11-19T12:08:03.481564Z"
    }
   },
   "outputs": [
    {
     "data": {
      "image/png": "[encoded data removed]",
      "text/plain": [
       "<Figure size 432x288 with 1 Axes>"
      ]
     },
     "metadata": {
      "needs_background": "light"
     },
     "output_type": "display_data"
    },
    {
     "data": {
      "image/png": "[encoded data removed]",
      "text/plain": [
       "<Figure size 432x288 with 1 Axes>"
      ]
     },
     "metadata": {
      "needs_background": "light"
     },
     "output_type": "display_data"
    }
   ],
   "source": [
    "def draw_box_plot():\n",
    "    pass\n",
    "\n",
    "from sklearn.preprocessing import RobustScaler\n",
    "x = user_df[[\"5\",\"presetx\",\"presety\"]].values #returns a numpy array\n",
    "scaler = RobustScaler()\n",
    "x_scaled = scaler.fit_transform(x)\n",
    "scaled_df = pd.DataFrame(x_scaled,columns=[\"5\",\"presetx\",\"presety\"])\n",
    "\n",
    "sns.boxplot(x=\"presetx\",y=\"5\",palette=[\"m\", \"g\"],\n",
    "            data=user_df)\n",
    "plt.title(\"UserID \"+UserID)\n",
    "plt.ylabel(\"Intensity [dB]\")\n",
    "plt.ylim(0,90)\n",
    "fig = plt.gcf()\n",
    "fig.savefig(UserID+'_boxplotx.png', dpi=100)\n",
    "plt.show()\n",
    "\n",
    "sns.boxplot(x=\"presety\",y=\"5\",palette=[\"m\", \"g\"],\n",
    "            data=user_df)\n",
    "plt.title(\"UserID \"+UserID)\n",
    "plt.ylabel(\"Intensity [dB]\")\n",
    "plt.ylim(0,120)\n",
    "fig = plt.gcf()\n",
    "fig.savefig(UserID+'_boxploty.png', dpi=100)\n",
    "plt.show()"
   ]
  },
  {
   "cell_type": "code",
   "execution_count": 10,
   "metadata": {
    "ExecuteTime": {
     "end_time": "2019-11-19T12:08:04.629795Z",
     "start_time": "2019-11-19T12:08:04.446282Z"
    }
   },
   "outputs": [
    {
     "data": {
      "image/png": "[encoded data removed]",
      "text/plain": [
       "<Figure size 432x288 with 1 Axes>"
      ]
     },
     "metadata": {
      "needs_background": "light"
     },
     "output_type": "display_data"
    }
   ],
   "source": [
    "plt.plot(user_df[\"presetx\"],user_df[\"presety\"],'o',alpha=.1)\n",
    "plt.title(\"UserID \"+UserID)\n",
    "plt.xlabel(\"presetx\")\n",
    "plt.ylabel(\"presety\")\n",
    "fig = plt.gcf()\n",
    "fig.savefig(UserID+'_presetsmatrix.png', dpi=100)\n",
    "plt.show()"
   ]
  },
  {
   "cell_type": "markdown",
   "metadata": {},
   "source": [
    "## Visualization of spectrogram"
   ]
  },
  {
   "cell_type": "code",
   "execution_count": 11,
   "metadata": {
    "ExecuteTime": {
     "end_time": "2019-11-19T12:08:05.542903Z",
     "start_time": "2019-11-19T12:08:05.496953Z"
    }
   },
   "outputs": [],
   "source": [
    "bands=[]\n",
    "intensities=[]\n",
    "dates=[]\n",
    "\n",
    "def flatten(l):\n",
    "    return sum(l,[])\n",
    "\n",
    "for band in range(1,12):\n",
    "    intensities+=[user_df[str(band)].values]\n",
    "    bands+=[[band]*len(user_df[str(band)].values)]\n",
    "    dates+=[range(len(user_df))]\n",
    "\n",
    "    \n",
    "intensities=np.array(intensities).flatten()\n",
    "bands=np.array(bands).flatten()\n",
    "dates=np.array(dates).flatten()\n",
    "\n",
    "tmp_df=pd.DataFrame({\"intensities\":intensities,\"bands\":bands,\"dates\":dates})\n",
    "pv=tmp_df.pivot(\"bands\",\"dates\",\"intensities\")\n"
   ]
  },
  {
   "cell_type": "code",
   "execution_count": 12,
   "metadata": {
    "ExecuteTime": {
     "end_time": "2019-11-19T12:08:07.063709Z",
     "start_time": "2019-11-19T12:08:06.136276Z"
    }
   },
   "outputs": [
    {
     "data": {
      "image/png": "[encoded data removed]",
      "text/plain": [
       "<Figure size 432x288 with 2 Axes>"
      ]
     },
     "metadata": {
      "needs_background": "light"
     },
     "output_type": "display_data"
    },
    {
     "data": {
      "text/plain": [
       "<matplotlib.axes._subplots.AxesSubplot at 0x7f287f638400>"
      ]
     },
     "execution_count": 12,
     "metadata": {},
     "output_type": "execute_result"
    },
    {
     "data": {
      "image/png": "[encoded data removed]",
      "text/plain": [
       "<Figure size 432x288 with 1 Axes>"
      ]
     },
     "metadata": {
      "needs_background": "light"
     },
     "output_type": "display_data"
    }
   ],
   "source": [
    "#fig, ax = plt.subplots(2,1, sharex=True)\n",
    "\n",
    "#ax1=plt.subplot(211)\n",
    "sns.heatmap(pv,cmap=\"hot\")\n",
    "\n",
    "\n",
    "#ax2 = plt.subplot(212,sharex=ax1)\n",
    "#fig = plt.gcf()\n",
    "#fig.set_size_inches(20,7)\n",
    "\n",
    "#plt.subplot(212)\n",
    "plt.title(\"UserID \"+UserID)\n",
    "fig = plt.gcf()\n",
    "fig.savefig(UserID+'_heatmap.png', dpi=100)\n",
    "plt.show()\n",
    "sns.lineplot(range(len(user_df[\"date\"])),user_df[\"presety\"])\n",
    "\n",
    "#ax2.plot(range(len(user_df[\"date\"])),user_df[\"5\"])"
   ]
  },
  {
   "cell_type": "markdown",
   "metadata": {
    "ExecuteTime": {
     "end_time": "2019-11-08T08:35:17.913373Z",
     "start_time": "2019-11-08T08:35:17.911335Z"
    }
   },
   "source": [
    "### Regression Analysis for Self-Fitting of the user"
   ]
  },
  {
   "cell_type": "code",
   "execution_count": 13,
   "metadata": {
    "ExecuteTime": {
     "end_time": "2019-11-19T12:11:07.204030Z",
     "start_time": "2019-11-19T12:09:59.263Z"
    }
   },
   "outputs": [
    {
     "data": {
      "text/plain": [
       "-1.018942220928626"
      ]
     },
     "execution_count": 13,
     "metadata": {},
     "output_type": "execute_result"
    }
   ],
   "source": [
    "from sklearn.tree import DecisionTreeRegressor\n",
    "from sklearn.linear_model import LinearRegression\n",
    "from sklearn.linear_model import RidgeCV\n",
    "\n",
    "X=user_df[[\"1\",\"2\",\"3\",\"4\",\"5\",\"6\",\"7\",\"8\",\"9\"]]\n",
    "#X=user_df[[\"5\",\"5\"]]\n",
    "y=user_df[\"presety\"]\n",
    "\n",
    "X_train=X.iloc[:1000]\n",
    "y_train=y.iloc[:1000]\n",
    "X_test=X.iloc[1000:]\n",
    "y_test=y.iloc[1000:]\n",
    "\n",
    "#model=DecisionTreeRegressor(max_depth=2)\n",
    "linear_model=RidgeCV(normalize=True)\n",
    "linear_model.fit(X_train,y_train)\n",
    "linear_model.score(X_test,y_test)"
   ]
  },
  {
   "cell_type": "markdown",
   "metadata": {},
   "source": [
    "Plotting the coefficients of the linear, resembling the relevance of different frequency bands."
   ]
  },
  {
   "cell_type": "code",
   "execution_count": 14,
   "metadata": {
    "ExecuteTime": {
     "end_time": "2019-11-19T12:11:07.205949Z",
     "start_time": "2019-11-19T12:09:59.782Z"
    },
    "scrolled": true
   },
   "outputs": [
    {
     "data": {
      "image/png": "[encoded data removed]",
      "text/plain": [
       "<Figure size 432x288 with 1 Axes>"
      ]
     },
     "metadata": {
      "needs_background": "light"
     },
     "output_type": "display_data"
    }
   ],
   "source": [
    "plt.bar(range(len(linear_model.coef_)),linear_model.coef_)\n",
    "fig = plt.gcf()\n",
    "fig.savefig(UserID+'_band_relevance.png', dpi=100)\n"
   ]
  },
  {
   "cell_type": "code",
   "execution_count": 15,
   "metadata": {
    "ExecuteTime": {
     "end_time": "2019-11-19T12:08:13.050870Z",
     "start_time": "2019-11-19T12:08:12.787254Z"
    }
   },
   "outputs": [
    {
     "data": {
      "image/png": "[encoded data removed]",
      "text/plain": [
       "<Figure size 432x288 with 1 Axes>"
      ]
     },
     "metadata": {
      "needs_background": "light"
     },
     "output_type": "display_data"
    }
   ],
   "source": [
    "from sklearn.ensemble import RandomForestRegressor\n",
    "\n",
    "model=RandomForestRegressor(max_depth=3)\n",
    "model.fit(X_train,y_train)\n",
    "imps=model.feature_importances_\n",
    "plt.bar(range(len(imps)),imps)\n",
    "plt.title(UserID+\" Feature Importances\")\n",
    "fig = plt.gcf()\n",
    "fig.savefig(UserID+'_band_relevance.png', dpi=100)"
   ]
  },
  {
   "cell_type": "markdown",
   "metadata": {},
   "source": [
    "The feature importance clearly shows the relevance of channels 5,6 which also evident if we look at the pairplot of spectrogram and time series."
   ]
  },
  {
   "cell_type": "code",
   "execution_count": 16,
   "metadata": {
    "ExecuteTime": {
     "end_time": "2019-11-19T12:08:22.021932Z",
     "start_time": "2019-11-19T12:08:21.447912Z"
    }
   },
   "outputs": [
    {
     "data": {
      "image/png": "[encoded data removed]",
      "text/plain": [
       "<Figure size 432x288 with 4 Axes>"
      ]
     },
     "metadata": {
      "needs_background": "light"
     },
     "output_type": "display_data"
    }
   ],
   "source": [
    "plt.subplot(411)\n",
    "plt.plot(y)\n",
    "plt.title(UserID+\" Response - X Value (tonal color)\")\n",
    "plt.tight_layout()\n",
    "plt.subplot(412)\n",
    "plt.title(\" Response - Y Value (Amplification)\")\n",
    "plt.plot(linear_model.predict(X))\n",
    "plt.subplot(413)\n",
    "#plt.plot(savgol_filter(model.predict(X),51,2))\n",
    "plt.plot(pd.Series(model.predict(X)).rolling(50).median())\n",
    "plt.subplot(414)\n",
    "plt.plot(user_df[\"5\"].iloc[:])\n",
    "fig = plt.gcf()\n",
    "fig.savefig(UserID+'_modelprediction', dpi=100)\n"
   ]
  },
  {
   "cell_type": "code",
   "execution_count": 17,
   "metadata": {
    "ExecuteTime": {
     "end_time": "2019-11-09T15:53:37.475835Z",
     "start_time": "2019-11-09T15:53:37.459233Z"
    }
   },
   "outputs": [],
   "source": [
    "from scipy.signal import savgol_filter\n",
    "y_smooth = savgol_filter(model.predict(X), 31, 2)"
   ]
  },
  {
   "cell_type": "markdown",
   "metadata": {
    "ExecuteTime": {
     "end_time": "2019-11-19T12:13:42.286327Z",
     "start_time": "2019-11-19T12:13:42.281106Z"
    }
   },
   "source": [
    "# Liketohear-ai Prototype "
   ]
  },
  {
   "cell_type": "code",
   "execution_count": 18,
   "metadata": {
    "ExecuteTime": {
     "end_time": "2019-11-19T12:11:07.193894Z",
     "start_time": "2019-11-19T12:08:55.949651Z"
    }
   },
   "outputs": [
    {
     "ename": "ModuleNotFoundError",
     "evalue": "No module named 'paramiko'",
     "output_type": "error",
     "traceback": [
      "\u001b[0;31m---------------------------------------------------------------------------\u001b[0m",
      "\u001b[0;31mModuleNotFoundError\u001b[0m                       Traceback (most recent call last)",
      "\u001b[0;32m<ipython-input-18-2e903c46bf58>\u001b[0m in \u001b[0;36m<module>\u001b[0;34m\u001b[0m\n\u001b[0;32m----> 1\u001b[0;31m \u001b[0;32mfrom\u001b[0m \u001b[0mparamiko\u001b[0m \u001b[0;32mimport\u001b[0m \u001b[0mSSHClient\u001b[0m\u001b[0;34m\u001b[0m\u001b[0;34m\u001b[0m\u001b[0m\n\u001b[0m\u001b[1;32m      2\u001b[0m \u001b[0mclient\u001b[0m \u001b[0;34m=\u001b[0m \u001b[0mSSHClient\u001b[0m\u001b[0;34m(\u001b[0m\u001b[0;34m)\u001b[0m\u001b[0;34m\u001b[0m\u001b[0;34m\u001b[0m\u001b[0m\n\u001b[1;32m      3\u001b[0m \u001b[0mclient\u001b[0m\u001b[0;34m.\u001b[0m\u001b[0mload_system_host_keys\u001b[0m\u001b[0;34m(\u001b[0m\u001b[0;34m)\u001b[0m\u001b[0;34m\u001b[0m\u001b[0;34m\u001b[0m\u001b[0m\n\u001b[1;32m      4\u001b[0m \u001b[0mclient\u001b[0m\u001b[0;34m.\u001b[0m\u001b[0mconnect\u001b[0m\u001b[0;34m(\u001b[0m\u001b[0;34m'172.24.1.1'\u001b[0m\u001b[0;34m,\u001b[0m\u001b[0musername\u001b[0m\u001b[0;34m=\u001b[0m\u001b[0;34m\"pi\"\u001b[0m\u001b[0;34m,\u001b[0m\u001b[0mpassword\u001b[0m\u001b[0;34m=\u001b[0m\u001b[0;34m\"liketohear\"\u001b[0m\u001b[0;34m)\u001b[0m\u001b[0;34m\u001b[0m\u001b[0;34m\u001b[0m\u001b[0m\n\u001b[1;32m      5\u001b[0m \u001b[0mstdin\u001b[0m\u001b[0;34m,\u001b[0m \u001b[0mstdout\u001b[0m\u001b[0;34m,\u001b[0m \u001b[0mstderr\u001b[0m \u001b[0;34m=\u001b[0m \u001b[0mclient\u001b[0m\u001b[0;34m.\u001b[0m\u001b[0mexec_command\u001b[0m\u001b[0;34m(\u001b[0m\u001b[0;34m'ls -l'\u001b[0m\u001b[0;34m)\u001b[0m\u001b[0;34m\u001b[0m\u001b[0;34m\u001b[0m\u001b[0m\n",
      "\u001b[0;31mModuleNotFoundError\u001b[0m: No module named 'paramiko'"
     ]
    }
   ],
   "source": [
    "from paramiko import SSHClient\n",
    "client = SSHClient()\n",
    "client.load_system_host_keys()\n",
    "client.connect('172.24.1.1',username=\"pi\",password=\"liketohear\")\n",
    "stdin, stdout, stderr = client.exec_command('ls -l')"
   ]
  },
  {
   "cell_type": "code",
   "execution_count": 19,
   "metadata": {
    "ExecuteTime": {
     "end_time": "2019-11-19T12:11:07.199284Z",
     "start_time": "2019-11-19T12:08:56.653Z"
    }
   },
   "outputs": [
    {
     "ename": "NameError",
     "evalue": "name 'client' is not defined",
     "output_type": "error",
     "traceback": [
      "\u001b[0;31m---------------------------------------------------------------------------\u001b[0m",
      "\u001b[0;31mNameError\u001b[0m                                 Traceback (most recent call last)",
      "\u001b[0;32m<ipython-input-19-d7fe99584425>\u001b[0m in \u001b[0;36m<module>\u001b[0;34m\u001b[0m\n\u001b[0;32m----> 1\u001b[0;31m \u001b[0msftp_client\u001b[0m \u001b[0;34m=\u001b[0m \u001b[0mclient\u001b[0m\u001b[0;34m.\u001b[0m\u001b[0mopen_sftp\u001b[0m\u001b[0;34m(\u001b[0m\u001b[0;34m)\u001b[0m\u001b[0;34m\u001b[0m\u001b[0;34m\u001b[0m\u001b[0m\n\u001b[0m\u001b[1;32m      2\u001b[0m \u001b[0mf\u001b[0m \u001b[0;34m=\u001b[0m \u001b[0msftp_client\u001b[0m\u001b[0;34m.\u001b[0m\u001b[0mopen\u001b[0m\u001b[0;34m(\u001b[0m\u001b[0;34m\"/media/user_interface.log\"\u001b[0m\u001b[0;34m)\u001b[0m\u001b[0;34m\u001b[0m\u001b[0;34m\u001b[0m\u001b[0m\n\u001b[1;32m      3\u001b[0m \u001b[0;34m\u001b[0m\u001b[0m\n\u001b[1;32m      4\u001b[0m \u001b[0mlastLine\u001b[0m \u001b[0;34m=\u001b[0m \u001b[0;32mNone\u001b[0m\u001b[0;34m\u001b[0m\u001b[0;34m\u001b[0m\u001b[0m\n\u001b[1;32m      5\u001b[0m \u001b[0;34m\u001b[0m\u001b[0m\n",
      "\u001b[0;31mNameError\u001b[0m: name 'client' is not defined"
     ]
    }
   ],
   "source": [
    "sftp_client = client.open_sftp()\n",
    "f = sftp_client.open(\"/media/user_interface.log\")\n",
    "\n",
    "lastLine = None\n",
    "\n",
    "f.read().decode(\"utf-8\") \n",
    "1"
   ]
  },
  {
   "cell_type": "code",
   "execution_count": 20,
   "metadata": {
    "ExecuteTime": {
     "start_time": "2019-11-09T16:45:40.689Z"
    }
   },
   "outputs": [
    {
     "ename": "NameError",
     "evalue": "name 'f' is not defined",
     "output_type": "error",
     "traceback": [
      "\u001b[0;31m---------------------------------------------------------------------------\u001b[0m",
      "\u001b[0;31mNameError\u001b[0m                                 Traceback (most recent call last)",
      "\u001b[0;32m<ipython-input-20-042dea952dda>\u001b[0m in \u001b[0;36m<module>\u001b[0;34m\u001b[0m\n\u001b[1;32m      8\u001b[0m \u001b[0;32mwhile\u001b[0m \u001b[0;32mTrue\u001b[0m\u001b[0;34m:\u001b[0m\u001b[0;34m\u001b[0m\u001b[0;34m\u001b[0m\u001b[0m\n\u001b[1;32m      9\u001b[0m     \u001b[0;31m#time.sleep(5)\u001b[0m\u001b[0;34m\u001b[0m\u001b[0;34m\u001b[0m\u001b[0;34m\u001b[0m\u001b[0m\n\u001b[0;32m---> 10\u001b[0;31m     \u001b[0mline\u001b[0m \u001b[0;34m=\u001b[0m\u001b[0mf\u001b[0m\u001b[0;34m.\u001b[0m\u001b[0mread\u001b[0m\u001b[0;34m(\u001b[0m\u001b[0;34m)\u001b[0m\u001b[0;34m.\u001b[0m\u001b[0mdecode\u001b[0m\u001b[0;34m(\u001b[0m\u001b[0;34m\"utf-8\"\u001b[0m\u001b[0;34m)\u001b[0m\u001b[0;34m\u001b[0m\u001b[0;34m\u001b[0m\u001b[0m\n\u001b[0m\u001b[1;32m     11\u001b[0m     \u001b[0mtext\u001b[0m\u001b[0;34m+=\u001b[0m\u001b[0mline\u001b[0m\u001b[0;34m\u001b[0m\u001b[0;34m\u001b[0m\u001b[0m\n\u001b[1;32m     12\u001b[0m \u001b[0;34m\u001b[0m\u001b[0m\n",
      "\u001b[0;31mNameError\u001b[0m: name 'f' is not defined"
     ]
    }
   ],
   "source": [
    "%matplotlib inline\n",
    "import time\n",
    "import pylab as pl\n",
    "from IPython import display\n",
    "\n",
    "text=\"\"\n",
    "\n",
    "while True:\n",
    "    #time.sleep(5)\n",
    "    line =f.read().decode(\"utf-8\") \n",
    "    text+=line\n",
    "    \n",
    "    tmp_text=\"[\"+text+\"]\"\n",
    "    tmp_text=tmp_text.replace(\"}\\n{\",\"},{\")\n",
    "    print(\"hi\")\n",
    "    \n",
    "    j=json.loads(tmp_text)\n",
    "    \n",
    "\n",
    "    measures=[]\n",
    "    cur_presetx=0\n",
    "    cur_presety=0\n",
    "    cur_el={}\n",
    "    for el in j:\n",
    "        if \"data\" in el:\n",
    "            if \"presetx\" in el[\"data\"] and \"presety\" in el[\"data\"]:\n",
    "                cur_el[\"presetx\"]=el[\"data\"][\"presetx\"]\n",
    "                cur_el[\"presety\"]=el[\"data\"][\"presety\"]\n",
    "                measures+=[cur_el]    \n",
    "            else: #intensity data\n",
    "                decibels=get_decibels(el[\"msg\"])\n",
    "                el.update(decibels)\n",
    "                cur_el=el\n",
    "    df=pd.DataFrame(measures)\n",
    "    user_df=df[df[\"userid\"]==\"d\"]\n",
    "    df[\"date\"]=pd.to_datetime(df[\"date\"])\n",
    "\n",
    "    X=user_df[[\"1\",\"2\",\"3\",\"4\",\"5\",\"6\",\"7\",\"8\",\"9\"]]\n",
    "    y=user_df[\"presety\"]\n",
    "\n",
    "    #pred=model.predict(X)\n",
    "    \n",
    "    plt.tight_layout()\n",
    "    plt.subplot(411)\n",
    "    plt.title(\"real Y\")\n",
    "    plt.plot(y)\n",
    "    plt.subplot(412)\n",
    "    plt.title(\"Linear model\")\n",
    "    plt.plot(linear_model.predict(X))\n",
    "    plt.subplot(413)\n",
    "    plt.title(\"RandomForestRegressor \")\n",
    "    #plt.plot(savgol_filter(model.predict(X),51,2))\n",
    "    plt.plot(pd.Series(model.predict(X)).rolling(2).median())\n",
    "    #plt.plot(pd.Series(model.predict(X)))\n",
    "    \n",
    "    plt.subplot(414)\n",
    "    plt.title(\"Intensity\")\n",
    "    plt.plot(user_df[\"5\"].iloc[:])\n",
    "    #plt.show()\n",
    "    display.clear_output(wait=True)\n",
    "    display.display(pl.gcf())\n",
    "    "
   ]
  },
  {
   "cell_type": "code",
   "execution_count": 21,
   "metadata": {
    "ExecuteTime": {
     "end_time": "2019-11-09T15:57:22.828897Z",
     "start_time": "2019-11-09T15:57:22.784225Z"
    }
   },
   "outputs": [
    {
     "data": {
      "text/html": [
       "<div>\n",
       "<style scoped>\n",
       "    .dataframe tbody tr th:only-of-type {\n",
       "        vertical-align: middle;\n",
       "    }\n",
       "\n",
       "    .dataframe tbody tr th {\n",
       "        vertical-align: top;\n",
       "    }\n",
       "\n",
       "    .dataframe thead th {\n",
       "        text-align: right;\n",
       "    }\n",
       "</style>\n",
       "<table border=\"1\" class=\"dataframe\">\n",
       "  <thead>\n",
       "    <tr style=\"text-align: right;\">\n",
       "      <th></th>\n",
       "      <th>msg</th>\n",
       "      <th>data</th>\n",
       "      <th>date</th>\n",
       "      <th>userid</th>\n",
       "      <th>1</th>\n",
       "      <th>2</th>\n",
       "      <th>3</th>\n",
       "      <th>4</th>\n",
       "      <th>5</th>\n",
       "      <th>6</th>\n",
       "      <th>7</th>\n",
       "      <th>8</th>\n",
       "      <th>9</th>\n",
       "      <th>10</th>\n",
       "      <th>11</th>\n",
       "      <th>12</th>\n",
       "      <th>sound pressure level</th>\n",
       "      <th>presetx</th>\n",
       "      <th>presety</th>\n",
       "    </tr>\n",
       "  </thead>\n",
       "  <tbody>\n",
       "    <tr>\n",
       "      <th>0</th>\n",
       "      <td># RMS level in dB\\n# vector&lt;float&gt; (monitor)\\n...</td>\n",
       "      <td>[]</td>\n",
       "      <td>2019-06-16 14:58:34</td>\n",
       "      <td>SE05CE22</td>\n",
       "      <td>69.204376</td>\n",
       "      <td>48.068005</td>\n",
       "      <td>41.675263</td>\n",
       "      <td>41.219086</td>\n",
       "      <td>35.625729</td>\n",
       "      <td>32.635876</td>\n",
       "      <td>64.508827</td>\n",
       "      <td>50.213528</td>\n",
       "      <td>44.078980</td>\n",
       "      <td>44.156056</td>\n",
       "      <td>35.884479</td>\n",
       "      <td>35.619373</td>\n",
       "      <td>70.573560</td>\n",
       "      <td>5</td>\n",
       "      <td>5</td>\n",
       "    </tr>\n",
       "    <tr>\n",
       "      <th>1</th>\n",
       "      <td># RMS level in dB\\n# vector&lt;float&gt; (monitor)\\n...</td>\n",
       "      <td>[]</td>\n",
       "      <td>2019-06-16 14:58:35</td>\n",
       "      <td>SE05CE22</td>\n",
       "      <td>60.891640</td>\n",
       "      <td>57.948959</td>\n",
       "      <td>44.206162</td>\n",
       "      <td>50.713211</td>\n",
       "      <td>50.885311</td>\n",
       "      <td>30.489567</td>\n",
       "      <td>60.643433</td>\n",
       "      <td>47.117806</td>\n",
       "      <td>44.269424</td>\n",
       "      <td>51.155453</td>\n",
       "      <td>43.780674</td>\n",
       "      <td>38.636864</td>\n",
       "      <td>65.464183</td>\n",
       "      <td>5</td>\n",
       "      <td>5</td>\n",
       "    </tr>\n",
       "    <tr>\n",
       "      <th>2</th>\n",
       "      <td># RMS level in dB\\n# vector&lt;float&gt; (monitor)\\n...</td>\n",
       "      <td>[]</td>\n",
       "      <td>2019-06-16 14:58:36</td>\n",
       "      <td>SE05CE22</td>\n",
       "      <td>59.483269</td>\n",
       "      <td>47.487274</td>\n",
       "      <td>40.958046</td>\n",
       "      <td>47.091606</td>\n",
       "      <td>33.074066</td>\n",
       "      <td>32.804009</td>\n",
       "      <td>57.889145</td>\n",
       "      <td>41.047890</td>\n",
       "      <td>43.665131</td>\n",
       "      <td>45.888092</td>\n",
       "      <td>32.704887</td>\n",
       "      <td>30.773039</td>\n",
       "      <td>62.315670</td>\n",
       "      <td>5</td>\n",
       "      <td>5</td>\n",
       "    </tr>\n",
       "    <tr>\n",
       "      <th>3</th>\n",
       "      <td># RMS level in dB\\n# vector&lt;float&gt; (monitor)\\n...</td>\n",
       "      <td>[]</td>\n",
       "      <td>2019-06-16 14:58:37</td>\n",
       "      <td>SE05CE22</td>\n",
       "      <td>63.308010</td>\n",
       "      <td>55.094208</td>\n",
       "      <td>45.193943</td>\n",
       "      <td>39.928375</td>\n",
       "      <td>35.323475</td>\n",
       "      <td>27.942699</td>\n",
       "      <td>62.211937</td>\n",
       "      <td>52.164001</td>\n",
       "      <td>47.498707</td>\n",
       "      <td>41.960297</td>\n",
       "      <td>33.787655</td>\n",
       "      <td>28.658691</td>\n",
       "      <td>66.450090</td>\n",
       "      <td>5</td>\n",
       "      <td>5</td>\n",
       "    </tr>\n",
       "    <tr>\n",
       "      <th>4</th>\n",
       "      <td># RMS level in dB\\n# vector&lt;float&gt; (monitor)\\n...</td>\n",
       "      <td>[]</td>\n",
       "      <td>2019-06-16 14:58:38</td>\n",
       "      <td>SE05CE22</td>\n",
       "      <td>69.323242</td>\n",
       "      <td>68.280571</td>\n",
       "      <td>65.318649</td>\n",
       "      <td>61.703247</td>\n",
       "      <td>37.130554</td>\n",
       "      <td>35.503925</td>\n",
       "      <td>72.684418</td>\n",
       "      <td>76.121513</td>\n",
       "      <td>72.251656</td>\n",
       "      <td>64.250496</td>\n",
       "      <td>44.501244</td>\n",
       "      <td>39.055016</td>\n",
       "      <td>79.963623</td>\n",
       "      <td>5</td>\n",
       "      <td>5</td>\n",
       "    </tr>\n",
       "    <tr>\n",
       "      <th>...</th>\n",
       "      <td>...</td>\n",
       "      <td>...</td>\n",
       "      <td>...</td>\n",
       "      <td>...</td>\n",
       "      <td>...</td>\n",
       "      <td>...</td>\n",
       "      <td>...</td>\n",
       "      <td>...</td>\n",
       "      <td>...</td>\n",
       "      <td>...</td>\n",
       "      <td>...</td>\n",
       "      <td>...</td>\n",
       "      <td>...</td>\n",
       "      <td>...</td>\n",
       "      <td>...</td>\n",
       "      <td>...</td>\n",
       "      <td>...</td>\n",
       "      <td>...</td>\n",
       "      <td>...</td>\n",
       "    </tr>\n",
       "    <tr>\n",
       "      <th>18852</th>\n",
       "      <td># RMS level in dB\\n# vector&lt;float&gt; (monitor)\\n...</td>\n",
       "      <td>[]</td>\n",
       "      <td>2019-06-06 15:56:45</td>\n",
       "      <td>DefaultUser</td>\n",
       "      <td>66.596748</td>\n",
       "      <td>47.305122</td>\n",
       "      <td>50.295807</td>\n",
       "      <td>37.994812</td>\n",
       "      <td>39.432529</td>\n",
       "      <td>36.161404</td>\n",
       "      <td>66.971039</td>\n",
       "      <td>44.471325</td>\n",
       "      <td>50.570408</td>\n",
       "      <td>42.009296</td>\n",
       "      <td>41.339973</td>\n",
       "      <td>35.750038</td>\n",
       "      <td>69.956938</td>\n",
       "      <td>5</td>\n",
       "      <td>5</td>\n",
       "    </tr>\n",
       "    <tr>\n",
       "      <th>18853</th>\n",
       "      <td># RMS level in dB\\n# vector&lt;float&gt; (monitor)\\n...</td>\n",
       "      <td>[]</td>\n",
       "      <td>2019-06-06 15:56:46</td>\n",
       "      <td>DefaultUser</td>\n",
       "      <td>62.437386</td>\n",
       "      <td>45.822212</td>\n",
       "      <td>46.033001</td>\n",
       "      <td>41.077049</td>\n",
       "      <td>36.234352</td>\n",
       "      <td>32.992226</td>\n",
       "      <td>58.185669</td>\n",
       "      <td>51.220665</td>\n",
       "      <td>49.242516</td>\n",
       "      <td>39.299141</td>\n",
       "      <td>34.850445</td>\n",
       "      <td>33.629909</td>\n",
       "      <td>64.375919</td>\n",
       "      <td>5</td>\n",
       "      <td>5</td>\n",
       "    </tr>\n",
       "    <tr>\n",
       "      <th>18854</th>\n",
       "      <td># RMS level in dB\\n# vector&lt;float&gt; (monitor)\\n...</td>\n",
       "      <td>[]</td>\n",
       "      <td>2019-06-06 15:56:47</td>\n",
       "      <td>DefaultUser</td>\n",
       "      <td>71.400162</td>\n",
       "      <td>56.628662</td>\n",
       "      <td>52.918514</td>\n",
       "      <td>46.432030</td>\n",
       "      <td>34.653553</td>\n",
       "      <td>32.065395</td>\n",
       "      <td>71.708611</td>\n",
       "      <td>60.065804</td>\n",
       "      <td>55.272545</td>\n",
       "      <td>46.998333</td>\n",
       "      <td>39.027992</td>\n",
       "      <td>33.486958</td>\n",
       "      <td>74.877255</td>\n",
       "      <td>5</td>\n",
       "      <td>5</td>\n",
       "    </tr>\n",
       "    <tr>\n",
       "      <th>18855</th>\n",
       "      <td># RMS level in dB\\n# vector&lt;float&gt; (monitor)\\n...</td>\n",
       "      <td>[]</td>\n",
       "      <td>2019-06-06 15:56:48</td>\n",
       "      <td>DefaultUser</td>\n",
       "      <td>67.457230</td>\n",
       "      <td>67.582870</td>\n",
       "      <td>65.576256</td>\n",
       "      <td>61.214565</td>\n",
       "      <td>46.609474</td>\n",
       "      <td>37.678230</td>\n",
       "      <td>69.817345</td>\n",
       "      <td>68.906723</td>\n",
       "      <td>64.357414</td>\n",
       "      <td>65.632080</td>\n",
       "      <td>47.071339</td>\n",
       "      <td>40.152458</td>\n",
       "      <td>76.030836</td>\n",
       "      <td>5</td>\n",
       "      <td>5</td>\n",
       "    </tr>\n",
       "    <tr>\n",
       "      <th>18856</th>\n",
       "      <td># RMS level in dB\\n# vector&lt;float&gt; (monitor)\\n...</td>\n",
       "      <td>[]</td>\n",
       "      <td>2019-06-06 15:56:49</td>\n",
       "      <td>DefaultUser</td>\n",
       "      <td>54.241985</td>\n",
       "      <td>58.548462</td>\n",
       "      <td>50.664650</td>\n",
       "      <td>45.105766</td>\n",
       "      <td>53.992786</td>\n",
       "      <td>47.050495</td>\n",
       "      <td>53.393803</td>\n",
       "      <td>50.876965</td>\n",
       "      <td>49.845676</td>\n",
       "      <td>46.617210</td>\n",
       "      <td>48.562614</td>\n",
       "      <td>45.923820</td>\n",
       "      <td>63.066542</td>\n",
       "      <td>5</td>\n",
       "      <td>5</td>\n",
       "    </tr>\n",
       "  </tbody>\n",
       "</table>\n",
       "<p>18857 rows × 19 columns</p>\n",
       "</div>"
      ],
      "text/plain": [
       "                                                     msg data  \\\n",
       "0      # RMS level in dB\\n# vector<float> (monitor)\\n...   []   \n",
       "1      # RMS level in dB\\n# vector<float> (monitor)\\n...   []   \n",
       "2      # RMS level in dB\\n# vector<float> (monitor)\\n...   []   \n",
       "3      # RMS level in dB\\n# vector<float> (monitor)\\n...   []   \n",
       "4      # RMS level in dB\\n# vector<float> (monitor)\\n...   []   \n",
       "...                                                  ...  ...   \n",
       "18852  # RMS level in dB\\n# vector<float> (monitor)\\n...   []   \n",
       "18853  # RMS level in dB\\n# vector<float> (monitor)\\n...   []   \n",
       "18854  # RMS level in dB\\n# vector<float> (monitor)\\n...   []   \n",
       "18855  # RMS level in dB\\n# vector<float> (monitor)\\n...   []   \n",
       "18856  # RMS level in dB\\n# vector<float> (monitor)\\n...   []   \n",
       "\n",
       "                     date       userid          1          2          3  \\\n",
       "0     2019-06-16 14:58:34     SE05CE22  69.204376  48.068005  41.675263   \n",
       "1     2019-06-16 14:58:35     SE05CE22  60.891640  57.948959  44.206162   \n",
       "2     2019-06-16 14:58:36     SE05CE22  59.483269  47.487274  40.958046   \n",
       "3     2019-06-16 14:58:37     SE05CE22  63.308010  55.094208  45.193943   \n",
       "4     2019-06-16 14:58:38     SE05CE22  69.323242  68.280571  65.318649   \n",
       "...                   ...          ...        ...        ...        ...   \n",
       "18852 2019-06-06 15:56:45  DefaultUser  66.596748  47.305122  50.295807   \n",
       "18853 2019-06-06 15:56:46  DefaultUser  62.437386  45.822212  46.033001   \n",
       "18854 2019-06-06 15:56:47  DefaultUser  71.400162  56.628662  52.918514   \n",
       "18855 2019-06-06 15:56:48  DefaultUser  67.457230  67.582870  65.576256   \n",
       "18856 2019-06-06 15:56:49  DefaultUser  54.241985  58.548462  50.664650   \n",
       "\n",
       "               4          5          6          7          8          9  \\\n",
       "0      41.219086  35.625729  32.635876  64.508827  50.213528  44.078980   \n",
       "1      50.713211  50.885311  30.489567  60.643433  47.117806  44.269424   \n",
       "2      47.091606  33.074066  32.804009  57.889145  41.047890  43.665131   \n",
       "3      39.928375  35.323475  27.942699  62.211937  52.164001  47.498707   \n",
       "4      61.703247  37.130554  35.503925  72.684418  76.121513  72.251656   \n",
       "...          ...        ...        ...        ...        ...        ...   \n",
       "18852  37.994812  39.432529  36.161404  66.971039  44.471325  50.570408   \n",
       "18853  41.077049  36.234352  32.992226  58.185669  51.220665  49.242516   \n",
       "18854  46.432030  34.653553  32.065395  71.708611  60.065804  55.272545   \n",
       "18855  61.214565  46.609474  37.678230  69.817345  68.906723  64.357414   \n",
       "18856  45.105766  53.992786  47.050495  53.393803  50.876965  49.845676   \n",
       "\n",
       "              10         11         12  sound pressure level  presetx  presety  \n",
       "0      44.156056  35.884479  35.619373             70.573560        5        5  \n",
       "1      51.155453  43.780674  38.636864             65.464183        5        5  \n",
       "2      45.888092  32.704887  30.773039             62.315670        5        5  \n",
       "3      41.960297  33.787655  28.658691             66.450090        5        5  \n",
       "4      64.250496  44.501244  39.055016             79.963623        5        5  \n",
       "...          ...        ...        ...                   ...      ...      ...  \n",
       "18852  42.009296  41.339973  35.750038             69.956938        5        5  \n",
       "18853  39.299141  34.850445  33.629909             64.375919        5        5  \n",
       "18854  46.998333  39.027992  33.486958             74.877255        5        5  \n",
       "18855  65.632080  47.071339  40.152458             76.030836        5        5  \n",
       "18856  46.617210  48.562614  45.923820             63.066542        5        5  \n",
       "\n",
       "[18857 rows x 19 columns]"
      ]
     },
     "execution_count": 21,
     "metadata": {},
     "output_type": "execute_result"
    }
   ],
   "source": [
    "df"
   ]
  },
  {
   "cell_type": "code",
   "execution_count": 22,
   "metadata": {},
   "outputs": [
    {
     "ename": "SyntaxError",
     "evalue": "invalid syntax (<ipython-input-22-2f60b1ab9448>, line 5)",
     "output_type": "error",
     "traceback": [
      "\u001b[0;36m  File \u001b[0;32m\"<ipython-input-22-2f60b1ab9448>\"\u001b[0;36m, line \u001b[0;32m5\u001b[0m\n\u001b[0;31m    x,y => (Poistion vom Bobbel auf der App)\u001b[0m\n\u001b[0m         ^\u001b[0m\n\u001b[0;31mSyntaxError\u001b[0m\u001b[0;31m:\u001b[0m invalid syntax\n"
     ]
    }
   ],
   "source": [
    "# Thanks for the very good organization, \n",
    "# meet like-minded people\n",
    "# Met a lot of interesting people, and am glad to \n",
    "\n",
    "x,y => (Poistion vom Bobbel auf der App)\n",
    "x  .. mehr Höen\n",
    "y .. Lautstärken\n",
    "\n",
    "Was will manwissen:\n",
    "    * Lautstärke vor Verstärkung\n",
    "    \n",
    "x,y in Abhängigkeit von Umgebungsssound\n",
    "\n",
    "Gleiche Soundsituation -> Muster erkennen\n",
    "Gleiche Soundsituationen ähnlich einstellen?\n",
    "\n",
    "pro Logging und pro Person \n",
    "\n",
    "keine relative Zeit.."
   ]
  },
  {
   "cell_type": "code",
   "execution_count": null,
   "metadata": {},
   "outputs": [],
   "source": []
  }
 ],
 "metadata": {
  "kernelspec": {
   "display_name": "Python 3",
   "language": "python",
   "name": "python3"
  },
  "language_info": {
   "codemirror_mode": {
    "name": "ipython",
    "version": 3
   },
   "file_extension": ".py",
   "mimetype": "text/x-python",
   "name": "python",
   "nbconvert_exporter": "python",
   "pygments_lexer": "ipython3",
   "version": "3.8.1"
  },
  "toc": {
   "base_numbering": 1,
   "nav_menu": {},
   "number_sections": true,
   "sideBar": true,
   "skip_h1_title": false,
   "title_cell": "Table of Contents",
   "title_sidebar": "Contents",
   "toc_cell": false,
   "toc_position": {},
   "toc_section_display": true,
   "toc_window_display": true
  },
  "varInspector": {
   "cols": {
    "lenName": 16,
    "lenType": 16,
    "lenVar": 40
   },
   "kernels_config": {
    "python": {
     "delete_cmd_postfix": "",
     "delete_cmd_prefix": "del ",
     "library": "var_list.py",
     "varRefreshCmd": "print(var_dic_list())"
    },
    "r": {
     "delete_cmd_postfix": ") ",
     "delete_cmd_prefix": "rm(",
     "library": "var_list.r",
     "varRefreshCmd": "cat(var_dic_list()) "
    }
   },
   "types_to_exclude": [
    "module",
    "function",
    "builtin_function_or_method",
    "instance",
    "_Feature"
   ],
   "window_display": false
  }
 },
 "nbformat": 4,
 "nbformat_minor": 4
}
