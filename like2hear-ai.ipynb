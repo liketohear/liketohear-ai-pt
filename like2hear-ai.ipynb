{
 "cells": [
  {
   "cell_type": "markdown",
   "metadata": {},
   "source": [
    "# LikeToHear AI\n",
    "liketohear-ai is a prototype that was created in the course of the Hack4Ear Hackathon, organized by Fraunhofer IDMT. It is a first draft for the automatic self-fitting of hearing aids. The device learns from the user's feedback and makes suggestions for different sound situations.\n",
    "\n",
    "**How it works**\n",
    "\n",
    "To adjust the listening experience, the user uses the new liketohear technology, with which he can conveniently adjust parameters such as gain and timbre using the mobile phone app.\n",
    "\n",
    "A machine learning model learns from this feedback and gives the user more and more suitable suggestions over time by learning from his preferences for corresponding situations."
   ]
  },
  {
   "cell_type": "markdown",
   "metadata": {
    "ExecuteTime": {
     "end_time": "2019-11-19T12:15:05.310174Z",
     "start_time": "2019-11-19T12:15:05.303334Z"
    }
   },
   "source": [
    "## First Data analysis of spectral data"
   ]
  },
  {
   "cell_type": "markdown",
   "metadata": {},
   "source": [
    "### Data Preparation\n"
   ]
  },
  {
   "cell_type": "code",
   "execution_count": 1,
   "metadata": {
    "ExecuteTime": {
     "end_time": "2019-11-19T11:31:08.229272Z",
     "start_time": "2019-11-19T11:31:07.483609Z"
    }
   },
   "outputs": [],
   "source": [
    "import pandas as pd\n",
    "import json\n",
    "import re\n",
    "import matplotlib.pyplot as plt\n",
    "import seaborn as sns\n",
    "import numpy as np"
   ]
  },
  {
   "cell_type": "code",
   "execution_count": 2,
   "metadata": {
    "ExecuteTime": {
     "end_time": "2019-11-19T11:31:08.670310Z",
     "start_time": "2019-11-19T11:31:08.657981Z"
    }
   },
   "outputs": [],
   "source": [
    "\n",
    "def get_decibels(msg):\n",
    "    if \"RMS level in dB\" in msg:\n",
    "        decibels_str_list=re.findall(\"\\\\[[^\\\\]]*]\",msg)[0][1:-1].split()\n",
    "        decibels={str(k+1):float(v) for (k,v) in enumerate(decibels_str_list)}\n",
    "        decibels[\"sum\"]=sum(decibels.values())\n",
    "    else:\n",
    "        print(\"unknown message: \"+str(msg))\n",
    "        decibels={}\n",
    "    return decibels\n",
    "    \n",
    "def parse_file(file):\n",
    "    with open(file) as f:\n",
    "        j=json.load(f)\n",
    "        \n",
    "    measures=[]\n",
    "    cur_presetx=0\n",
    "    cur_presety=0\n",
    "    cur_el={}\n",
    "    for el in j:\n",
    "        if \"data\" in el:\n",
    "            if \"presetx\" in el[\"data\"] and \"presety\" in el[\"data\"]:\n",
    "                cur_el[\"presetx\"]=el[\"data\"][\"presetx\"]\n",
    "                cur_el[\"presety\"]=el[\"data\"][\"presety\"]\n",
    "                measures+=[cur_el]    \n",
    "            else: #intensity data\n",
    "                decibels=get_decibels(el[\"msg\"])\n",
    "                el.update(decibels)\n",
    "                cur_el=el\n",
    "    return pd.DataFrame(measures)\n",
    "        \n",
    "            \n",
    "            "
   ]
  },
  {
   "cell_type": "code",
   "execution_count": 7,
   "metadata": {
    "ExecuteTime": {
     "end_time": "2019-11-19T11:48:35.057793Z",
     "start_time": "2019-11-19T11:48:34.473812Z"
    },
    "scrolled": true
   },
   "outputs": [
    {
     "name": "stdout",
     "output_type": "stream",
     "text": [
      "unknown message: openMHACtrl started\n",
      "unknown message: openMHACtrl started\n"
     ]
    },
    {
     "data": {
      "text/html": [
       "<div>\n",
       "<style scoped>\n",
       "    .dataframe tbody tr th:only-of-type {\n",
       "        vertical-align: middle;\n",
       "    }\n",
       "\n",
       "    .dataframe tbody tr th {\n",
       "        vertical-align: top;\n",
       "    }\n",
       "\n",
       "    .dataframe thead th {\n",
       "        text-align: right;\n",
       "    }\n",
       "</style>\n",
       "<table border=\"1\" class=\"dataframe\">\n",
       "  <thead>\n",
       "    <tr style=\"text-align: right;\">\n",
       "      <th></th>\n",
       "      <th>date</th>\n",
       "      <th>msg</th>\n",
       "      <th>userid</th>\n",
       "      <th>data</th>\n",
       "      <th>1</th>\n",
       "      <th>2</th>\n",
       "      <th>3</th>\n",
       "      <th>4</th>\n",
       "      <th>5</th>\n",
       "      <th>6</th>\n",
       "      <th>7</th>\n",
       "      <th>8</th>\n",
       "      <th>9</th>\n",
       "      <th>10</th>\n",
       "      <th>11</th>\n",
       "      <th>12</th>\n",
       "      <th>sum</th>\n",
       "      <th>presetx</th>\n",
       "      <th>presety</th>\n",
       "    </tr>\n",
       "  </thead>\n",
       "  <tbody>\n",
       "    <tr>\n",
       "      <td>0</td>\n",
       "      <td>2019-10-02 09:52:11</td>\n",
       "      <td># RMS level in dB\\n# vector&lt;float&gt; (monitor)\\n...</td>\n",
       "      <td>DefaultUser</td>\n",
       "      <td>[]</td>\n",
       "      <td>-100.000000</td>\n",
       "      <td>-100.000000</td>\n",
       "      <td>-100.000000</td>\n",
       "      <td>-100.000000</td>\n",
       "      <td>-100.000000</td>\n",
       "      <td>-100.000000</td>\n",
       "      <td>-100.000000</td>\n",
       "      <td>-100.000000</td>\n",
       "      <td>-100.00000</td>\n",
       "      <td>-100.00000</td>\n",
       "      <td>-100.000000</td>\n",
       "      <td>-100.000000</td>\n",
       "      <td>-1200.000000</td>\n",
       "      <td>5</td>\n",
       "      <td>5</td>\n",
       "    </tr>\n",
       "    <tr>\n",
       "      <td>1</td>\n",
       "      <td>2019-10-02 09:52:12</td>\n",
       "      <td># RMS level in dB\\n# vector&lt;float&gt; (monitor)\\n...</td>\n",
       "      <td>DefaultUser</td>\n",
       "      <td>[]</td>\n",
       "      <td>-100.000000</td>\n",
       "      <td>-100.000000</td>\n",
       "      <td>-100.000000</td>\n",
       "      <td>-100.000000</td>\n",
       "      <td>-100.000000</td>\n",
       "      <td>-100.000000</td>\n",
       "      <td>-100.000000</td>\n",
       "      <td>-100.000000</td>\n",
       "      <td>-100.00000</td>\n",
       "      <td>-100.00000</td>\n",
       "      <td>-100.000000</td>\n",
       "      <td>-100.000000</td>\n",
       "      <td>-1200.000000</td>\n",
       "      <td>5</td>\n",
       "      <td>5</td>\n",
       "    </tr>\n",
       "    <tr>\n",
       "      <td>2</td>\n",
       "      <td>2019-10-02 09:52:13</td>\n",
       "      <td># RMS level in dB\\n# vector&lt;float&gt; (monitor)\\n...</td>\n",
       "      <td>DefaultUser</td>\n",
       "      <td>[]</td>\n",
       "      <td>-100.000000</td>\n",
       "      <td>-100.000000</td>\n",
       "      <td>-100.000000</td>\n",
       "      <td>-100.000000</td>\n",
       "      <td>-100.000000</td>\n",
       "      <td>-100.000000</td>\n",
       "      <td>-100.000000</td>\n",
       "      <td>-100.000000</td>\n",
       "      <td>-100.00000</td>\n",
       "      <td>-100.00000</td>\n",
       "      <td>-100.000000</td>\n",
       "      <td>-100.000000</td>\n",
       "      <td>-1200.000000</td>\n",
       "      <td>5</td>\n",
       "      <td>5</td>\n",
       "    </tr>\n",
       "    <tr>\n",
       "      <td>3</td>\n",
       "      <td>2019-10-02 09:52:14</td>\n",
       "      <td># RMS level in dB\\n# vector&lt;float&gt; (monitor)\\n...</td>\n",
       "      <td>DefaultUser</td>\n",
       "      <td>[]</td>\n",
       "      <td>-100.000000</td>\n",
       "      <td>-100.000000</td>\n",
       "      <td>-100.000000</td>\n",
       "      <td>-100.000000</td>\n",
       "      <td>-100.000000</td>\n",
       "      <td>-100.000000</td>\n",
       "      <td>-100.000000</td>\n",
       "      <td>-100.000000</td>\n",
       "      <td>-100.00000</td>\n",
       "      <td>-100.00000</td>\n",
       "      <td>-100.000000</td>\n",
       "      <td>-100.000000</td>\n",
       "      <td>-1200.000000</td>\n",
       "      <td>5</td>\n",
       "      <td>5</td>\n",
       "    </tr>\n",
       "    <tr>\n",
       "      <td>4</td>\n",
       "      <td>2019-10-02 09:52:15</td>\n",
       "      <td># RMS level in dB\\n# vector&lt;float&gt; (monitor)\\n...</td>\n",
       "      <td>DefaultUser</td>\n",
       "      <td>[]</td>\n",
       "      <td>17.363678</td>\n",
       "      <td>10.057733</td>\n",
       "      <td>9.277719</td>\n",
       "      <td>13.721788</td>\n",
       "      <td>16.203148</td>\n",
       "      <td>22.329435</td>\n",
       "      <td>15.861055</td>\n",
       "      <td>11.072513</td>\n",
       "      <td>9.67792</td>\n",
       "      <td>15.63076</td>\n",
       "      <td>16.297939</td>\n",
       "      <td>22.318487</td>\n",
       "      <td>179.812178</td>\n",
       "      <td>5</td>\n",
       "      <td>5</td>\n",
       "    </tr>\n",
       "  </tbody>\n",
       "</table>\n",
       "</div>"
      ],
      "text/plain": [
       "                 date                                                msg  \\\n",
       "0 2019-10-02 09:52:11  # RMS level in dB\\n# vector<float> (monitor)\\n...   \n",
       "1 2019-10-02 09:52:12  # RMS level in dB\\n# vector<float> (monitor)\\n...   \n",
       "2 2019-10-02 09:52:13  # RMS level in dB\\n# vector<float> (monitor)\\n...   \n",
       "3 2019-10-02 09:52:14  # RMS level in dB\\n# vector<float> (monitor)\\n...   \n",
       "4 2019-10-02 09:52:15  # RMS level in dB\\n# vector<float> (monitor)\\n...   \n",
       "\n",
       "        userid data           1           2           3           4  \\\n",
       "0  DefaultUser   [] -100.000000 -100.000000 -100.000000 -100.000000   \n",
       "1  DefaultUser   [] -100.000000 -100.000000 -100.000000 -100.000000   \n",
       "2  DefaultUser   [] -100.000000 -100.000000 -100.000000 -100.000000   \n",
       "3  DefaultUser   [] -100.000000 -100.000000 -100.000000 -100.000000   \n",
       "4  DefaultUser   []   17.363678   10.057733    9.277719   13.721788   \n",
       "\n",
       "            5           6           7           8          9         10  \\\n",
       "0 -100.000000 -100.000000 -100.000000 -100.000000 -100.00000 -100.00000   \n",
       "1 -100.000000 -100.000000 -100.000000 -100.000000 -100.00000 -100.00000   \n",
       "2 -100.000000 -100.000000 -100.000000 -100.000000 -100.00000 -100.00000   \n",
       "3 -100.000000 -100.000000 -100.000000 -100.000000 -100.00000 -100.00000   \n",
       "4   16.203148   22.329435   15.861055   11.072513    9.67792   15.63076   \n",
       "\n",
       "           11          12          sum  presetx  presety  \n",
       "0 -100.000000 -100.000000 -1200.000000        5        5  \n",
       "1 -100.000000 -100.000000 -1200.000000        5        5  \n",
       "2 -100.000000 -100.000000 -1200.000000        5        5  \n",
       "3 -100.000000 -100.000000 -1200.000000        5        5  \n",
       "4   16.297939   22.318487   179.812178        5        5  "
      ]
     },
     "execution_count": 7,
     "metadata": {},
     "output_type": "execute_result"
    }
   ],
   "source": [
    "df=pd.DataFrame(parse_file(\"liketohear_soundwalk_loggings/Results_2019-10-16/user_interface_2_nn04im02.log\"))\n",
    "\n",
    "df[\"date\"]=pd.to_datetime(df[\"date\"])\n",
    "df.head()"
   ]
  },
  {
   "cell_type": "markdown",
   "metadata": {
    "ExecuteTime": {
     "end_time": "2019-10-28T15:40:44.092677Z",
     "start_time": "2019-10-28T15:40:44.069759Z"
    }
   },
   "source": [
    "## Results Analysis"
   ]
  },
  {
   "cell_type": "markdown",
   "metadata": {},
   "source": [
    "Show unique user IDs contained in the dataset."
   ]
  },
  {
   "cell_type": "code",
   "execution_count": 8,
   "metadata": {
    "ExecuteTime": {
     "end_time": "2019-11-19T12:07:56.659551Z",
     "start_time": "2019-11-19T12:07:56.645811Z"
    }
   },
   "outputs": [
    {
     "name": "stdout",
     "output_type": "stream",
     "text": [
      "Unique users Ids\n"
     ]
    },
    {
     "data": {
      "text/plain": [
       "{'DefaultUser', 'Test-home', 'nn04im02'}"
      ]
     },
     "execution_count": 8,
     "metadata": {},
     "output_type": "execute_result"
    }
   ],
   "source": [
    "print(\"Unique users Ids\")\n",
    "set(df[\"userid\"])"
   ]
  },
  {
   "cell_type": "code",
   "execution_count": 9,
   "metadata": {
    "ExecuteTime": {
     "end_time": "2019-11-19T12:07:57.541963Z",
     "start_time": "2019-11-19T12:07:57.529557Z"
    }
   },
   "outputs": [],
   "source": [
    "user_df=df[df[\"userid\"]==\"nn04im02\"]\n"
   ]
  },
  {
   "cell_type": "code",
   "execution_count": 10,
   "metadata": {
    "ExecuteTime": {
     "end_time": "2019-11-19T12:07:58.511013Z",
     "start_time": "2019-11-19T12:07:58.495612Z"
    }
   },
   "outputs": [],
   "source": [
    "def plot_timeseries(user_df):\n",
    "    channel=\"5\"\n",
    "    plt.subplot(411)\n",
    "    plt.title(\"Input - Intensity Value for channel \"+channel)\n",
    "    plt.plot(user_df[\"date\"],user_df[channel])\n",
    "    plt.tight_layout()\n",
    "    #plt.show()\n",
    "    plt.subplot(412)\n",
    "    plt.plot(user_df[\"date\"],user_df[\"presetx\"])\n",
    "    plt.title(\"Response - X Value (tonal color)\")\n",
    "    plt.subplot(413)\n",
    "    plt.title(\"Response - Y Value (Amplification)\")\n",
    "    plt.plot(user_df[\"date\"],user_df[\"presety\"])\n",
    "\n",
    "    plt.subplot(414)\n",
    "    from scipy.signal import savgol_filter\n",
    "    y_smooth = savgol_filter(user_df[\"5\"], 51, 2)\n",
    "    plt.plot(user_df[\"date\"],y_smooth)\n",
    "    \n",
    "    fig = plt.gcf()\n",
    "    fig.set_size_inches(8,6)\n",
    "    fig.savefig('timeseries.png', dpi=120)\n",
    "\n",
    "    \n",
    "def plot_details(users):\n",
    "    for user in users:\n",
    "        user_df=df[df[\"userid\"]==user]\n",
    "        plot_timeseries(user_df)\n"
   ]
  },
  {
   "cell_type": "code",
   "execution_count": 11,
   "metadata": {
    "ExecuteTime": {
     "end_time": "2019-11-19T12:08:00.257029Z",
     "start_time": "2019-11-19T12:07:59.347898Z"
    },
    "scrolled": true
   },
   "outputs": [
    {
     "name": "stderr",
     "output_type": "stream",
     "text": [
      "/home/john/anaconda3/lib/python3.7/site-packages/pandas/plotting/_matplotlib/converter.py:103: FutureWarning: Using an implicitly registered datetime converter for a matplotlib plotting method. The converter was registered by pandas on import. Future versions of pandas will require you to explicitly register matplotlib converters.\n",
      "\n",
      "To register the converters:\n",
      "\t>>> from pandas.plotting import register_matplotlib_converters\n",
      "\t>>> register_matplotlib_converters()\n",
      "  warnings.warn(msg, FutureWarning)\n"
     ]
    },
    {
     "data": {
      "image/png": "[encoded data removed]",
      "text/plain": [
       "<Figure size 576x432 with 4 Axes>"
      ]
     },
     "metadata": {
      "needs_background": "light"
     },
     "output_type": "display_data"
    }
   ],
   "source": [
    "plot_details([\"nn04im02\"])"
   ]
  },
  {
   "cell_type": "markdown",
   "metadata": {},
   "source": [
    "The X and Y time series plots seem to be correlated. The dynamics of the response evolves on multiple timescales."
   ]
  },
  {
   "cell_type": "markdown",
   "metadata": {},
   "source": [
    "### Relation Analysis of Spectrogram and Responses"
   ]
  },
  {
   "cell_type": "code",
   "execution_count": 13,
   "metadata": {
    "ExecuteTime": {
     "end_time": "2019-11-19T12:08:04.370956Z",
     "start_time": "2019-11-19T12:08:03.481564Z"
    }
   },
   "outputs": [
    {
     "data": {
      "image/png": "[encoded data removed]",
      "text/plain": [
       "<Figure size 432x288 with 1 Axes>"
      ]
     },
     "metadata": {
      "needs_background": "light"
     },
     "output_type": "display_data"
    },
    {
     "data": {
      "image/png": "[encoded data removed]",
      "text/plain": [
       "<Figure size 432x288 with 1 Axes>"
      ]
     },
     "metadata": {
      "needs_background": "light"
     },
     "output_type": "display_data"
    }
   ],
   "source": [
    "def draw_box_plot():\n",
    "    pass\n",
    "\n",
    "from sklearn.preprocessing import RobustScaler\n",
    "x = user_df[[\"sum\",\"presetx\",\"presety\"]].values #returns a numpy array\n",
    "scaler = RobustScaler()\n",
    "x_scaled = scaler.fit_transform(x)\n",
    "scaled_df = pd.DataFrame(x_scaled,columns=[\"5\",\"presetx\",\"presety\"])\n",
    "\n",
    "sns.boxplot(x=\"presetx\",y=\"4\",palette=[\"m\", \"g\"],\n",
    "            data=user_df)\n",
    "plt.ylabel(\"Intensity [dB]\")\n",
    "fig = plt.gcf()\n",
    "fig.savefig('boxplotx.png', dpi=100)\n",
    "plt.show()\n",
    "\n",
    "sns.boxplot(x=\"presety\",y=\"4\",palette=[\"m\", \"g\"],\n",
    "            data=user_df)\n",
    "plt.ylabel(\"Intensity [dB]\")\n",
    "fig = plt.gcf()\n",
    "fig.savefig('boxploty.png', dpi=100)\n",
    "plt.show()"
   ]
  },
  {
   "cell_type": "code",
   "execution_count": 14,
   "metadata": {
    "ExecuteTime": {
     "end_time": "2019-11-19T12:08:04.629795Z",
     "start_time": "2019-11-19T12:08:04.446282Z"
    }
   },
   "outputs": [
    {
     "data": {
      "image/png": "[encoded data removed]",
      "text/plain": [
       "<Figure size 432x288 with 1 Axes>"
      ]
     },
     "metadata": {
      "needs_background": "light"
     },
     "output_type": "display_data"
    }
   ],
   "source": [
    "plt.plot(user_df[\"presetx\"],user_df[\"presety\"],'o',alpha=.1)\n",
    "plt.xlabel(\"presetx\")\n",
    "plt.ylabel(\"presety\")\n",
    "\n",
    "plt.show()"
   ]
  },
  {
   "cell_type": "markdown",
   "metadata": {},
   "source": [
    "## Visualization of spectrogram"
   ]
  },
  {
   "cell_type": "code",
   "execution_count": 15,
   "metadata": {
    "ExecuteTime": {
     "end_time": "2019-11-19T12:08:05.542903Z",
     "start_time": "2019-11-19T12:08:05.496953Z"
    }
   },
   "outputs": [],
   "source": [
    "bands=[]\n",
    "intensities=[]\n",
    "dates=[]\n",
    "\n",
    "def flatten(l):\n",
    "    return sum(l,[])\n",
    "\n",
    "for band in range(1,12):\n",
    "    intensities+=[user_df[str(band)].values]\n",
    "    bands+=[[band]*len(user_df[str(band)].values)]\n",
    "    dates+=[range(len(user_df))]\n",
    "\n",
    "    \n",
    "intensities=np.array(intensities).flatten()\n",
    "bands=np.array(bands).flatten()\n",
    "dates=np.array(dates).flatten()\n",
    "\n",
    "tmp_df=pd.DataFrame({\"intensities\":intensities,\"bands\":bands,\"dates\":dates})\n",
    "pv=tmp_df.pivot(\"bands\",\"dates\",\"intensities\")\n",
    "\n",
    "\n"
   ]
  },
  {
   "cell_type": "code",
   "execution_count": 16,
   "metadata": {
    "ExecuteTime": {
     "end_time": "2019-11-19T12:08:07.063709Z",
     "start_time": "2019-11-19T12:08:06.136276Z"
    }
   },
   "outputs": [
    {
     "data": {
      "image/png": "[encoded data removed]",
      "text/plain": [
       "<Figure size 432x288 with 2 Axes>"
      ]
     },
     "metadata": {
      "needs_background": "light"
     },
     "output_type": "display_data"
    },
    {
     "data": {
      "text/plain": [
       "<matplotlib.axes._subplots.AxesSubplot at 0x7f6599dfe650>"
      ]
     },
     "execution_count": 16,
     "metadata": {},
     "output_type": "execute_result"
    },
    {
     "data": {
      "image/png": "[encoded data removed]",
      "text/plain": [
       "<Figure size 432x288 with 1 Axes>"
      ]
     },
     "metadata": {
      "needs_background": "light"
     },
     "output_type": "display_data"
    }
   ],
   "source": [
    "#fig, ax = plt.subplots(2,1, sharex=True)\n",
    "\n",
    "#ax1=plt.subplot(211)\n",
    "sns.heatmap(pv,cmap=\"hot\")\n",
    "\n",
    "\n",
    "#ax2 = plt.subplot(212,sharex=ax1)\n",
    "#fig = plt.gcf()\n",
    "#fig.set_size_inches(20,7)\n",
    "\n",
    "#plt.subplot(212)\n",
    "plt.show()\n",
    "sns.lineplot(range(len(user_df[\"date\"])),user_df[\"presety\"])\n",
    "#ax2.plot(range(len(user_df[\"date\"])),user_df[\"5\"])"
   ]
  },
  {
   "cell_type": "markdown",
   "metadata": {
    "ExecuteTime": {
     "end_time": "2019-11-08T08:35:17.913373Z",
     "start_time": "2019-11-08T08:35:17.911335Z"
    }
   },
   "source": [
    "### Regression Analysis for Self-Fitting of the user"
   ]
  },
  {
   "cell_type": "code",
   "execution_count": null,
   "metadata": {
    "ExecuteTime": {
     "end_time": "2019-11-19T12:11:07.204030Z",
     "start_time": "2019-11-19T12:09:59.263Z"
    }
   },
   "outputs": [],
   "source": [
    "from sklearn.tree import DecisionTreeRegressor\n",
    "from sklearn.linear_model import LinearRegression\n",
    "from sklearn.linear_model import RidgeCV\n",
    "\n",
    "X=user_df[[\"1\",\"2\",\"3\",\"4\",\"5\",\"6\",\"7\",\"8\",\"9\"]]\n",
    "#X=user_df[[\"5\",\"5\"]]\n",
    "y=user_df[\"presety\"]\n",
    "\n",
    "X_train=X.iloc[:2000]\n",
    "y_train=y.iloc[:2000]\n",
    "X_test=X.iloc[2000:]\n",
    "y_test=y.iloc[2000:]\n",
    "\n",
    "#model=DecisionTreeRegressor(max_depth=2)\n",
    "linear_model=RidgeCV(normalize=True)\n",
    "linear_model.fit(X_train,y_train)\n",
    "linear_model.score(X_test,y_test)"
   ]
  },
  {
   "cell_type": "markdown",
   "metadata": {},
   "source": [
    "Plotting the coefficients of the linear, resembling the relevance of different frequency bands."
   ]
  },
  {
   "cell_type": "code",
   "execution_count": null,
   "metadata": {
    "ExecuteTime": {
     "end_time": "2019-11-19T12:11:07.205949Z",
     "start_time": "2019-11-19T12:09:59.782Z"
    },
    "scrolled": true
   },
   "outputs": [],
   "source": [
    "plt.bar(range(len(linear_model.coef_)),linear_model.coef_)\n"
   ]
  },
  {
   "cell_type": "code",
   "execution_count": 20,
   "metadata": {
    "ExecuteTime": {
     "end_time": "2019-11-19T12:08:13.050870Z",
     "start_time": "2019-11-19T12:08:12.787254Z"
    }
   },
   "outputs": [
    {
     "name": "stderr",
     "output_type": "stream",
     "text": [
      "/home/john/anaconda3/lib/python3.7/site-packages/sklearn/ensemble/forest.py:245: FutureWarning: The default value of n_estimators will change from 10 in version 0.20 to 100 in 0.22.\n",
      "  \"10 in version 0.20 to 100 in 0.22.\", FutureWarning)\n"
     ]
    },
    {
     "data": {
      "text/plain": [
       "Text(0.5, 1.0, 'Feature Importances')"
      ]
     },
     "execution_count": 20,
     "metadata": {},
     "output_type": "execute_result"
    },
    {
     "data": {
      "image/png": "[encoded data removed]",
      "text/plain": [
       "<Figure size 432x288 with 1 Axes>"
      ]
     },
     "metadata": {
      "needs_background": "light"
     },
     "output_type": "display_data"
    }
   ],
   "source": [
    "from sklearn.ensemble import RandomForestRegressor\n",
    "\n",
    "model=RandomForestRegressor(max_depth=3)\n",
    "model.fit(X_train,y_train)\n",
    "imps=model.feature_importances_\n",
    "plt.bar(range(len(imps)),imps)\n",
    "plt.title(\"Feature Importances\")"
   ]
  },
  {
   "cell_type": "markdown",
   "metadata": {},
   "source": [
    "The feature importance clearly shows the relevance of channels 5,6 which also evident if we look at the pairplot of spectrogram and time series."
   ]
  },
  {
   "cell_type": "code",
   "execution_count": 21,
   "metadata": {
    "ExecuteTime": {
     "end_time": "2019-11-19T12:08:22.021932Z",
     "start_time": "2019-11-19T12:08:21.447912Z"
    },
    "scrolled": false
   },
   "outputs": [
    {
     "data": {
      "text/plain": [
       "[<matplotlib.lines.Line2D at 0x7f6598350350>]"
      ]
     },
     "execution_count": 21,
     "metadata": {},
     "output_type": "execute_result"
    },
    {
     "data": {
      "image/png": "[encoded data removed]",
      "text/plain": [
       "<Figure size 432x288 with 4 Axes>"
      ]
     },
     "metadata": {
      "needs_background": "light"
     },
     "output_type": "display_data"
    }
   ],
   "source": [
    "plt.subplot(411)\n",
    "plt.plot(y)\n",
    "plt.subplot(412)\n",
    "plt.plot(linear_model.predict(X))\n",
    "plt.subplot(413)\n",
    "#plt.plot(savgol_filter(model.predict(X),51,2))\n",
    "plt.plot(pd.Series(model.predict(X)).rolling(50).median())\n",
    "plt.subplot(414)\n",
    "plt.plot(user_df[\"5\"].iloc[:])"
   ]
  },
  {
   "cell_type": "code",
   "execution_count": 82,
   "metadata": {
    "ExecuteTime": {
     "end_time": "2019-11-09T15:53:37.475835Z",
     "start_time": "2019-11-09T15:53:37.459233Z"
    }
   },
   "outputs": [],
   "source": [
    "from scipy.signal import savgol_filter\n",
    "y_smooth = savgol_filter(model.predict(X), 31, 2)"
   ]
  },
  {
   "cell_type": "markdown",
   "metadata": {
    "ExecuteTime": {
     "end_time": "2019-11-19T12:13:42.286327Z",
     "start_time": "2019-11-19T12:13:42.281106Z"
    }
   },
   "source": [
    "# Liketohear-ai Prototype "
   ]
  },
  {
   "cell_type": "code",
   "execution_count": 23,
   "metadata": {
    "ExecuteTime": {
     "end_time": "2019-11-19T12:11:07.193894Z",
     "start_time": "2019-11-19T12:08:55.949651Z"
    }
   },
   "outputs": [
    {
     "ename": "TimeoutError",
     "evalue": "[Errno 110] Connection timed out",
     "output_type": "error",
     "traceback": [
      "\u001b[0;31m---------------------------------------------------------------------------\u001b[0m",
      "\u001b[0;31mTimeoutError\u001b[0m                              Traceback (most recent call last)",
      "\u001b[0;32m<ipython-input-23-2e903c46bf58>\u001b[0m in \u001b[0;36m<module>\u001b[0;34m\u001b[0m\n\u001b[1;32m      2\u001b[0m \u001b[0mclient\u001b[0m \u001b[0;34m=\u001b[0m \u001b[0mSSHClient\u001b[0m\u001b[0;34m(\u001b[0m\u001b[0;34m)\u001b[0m\u001b[0;34m\u001b[0m\u001b[0;34m\u001b[0m\u001b[0m\n\u001b[1;32m      3\u001b[0m \u001b[0mclient\u001b[0m\u001b[0;34m.\u001b[0m\u001b[0mload_system_host_keys\u001b[0m\u001b[0;34m(\u001b[0m\u001b[0;34m)\u001b[0m\u001b[0;34m\u001b[0m\u001b[0;34m\u001b[0m\u001b[0m\n\u001b[0;32m----> 4\u001b[0;31m \u001b[0mclient\u001b[0m\u001b[0;34m.\u001b[0m\u001b[0mconnect\u001b[0m\u001b[0;34m(\u001b[0m\u001b[0;34m'172.24.1.1'\u001b[0m\u001b[0;34m,\u001b[0m\u001b[0musername\u001b[0m\u001b[0;34m=\u001b[0m\u001b[0;34m\"pi\"\u001b[0m\u001b[0;34m,\u001b[0m\u001b[0mpassword\u001b[0m\u001b[0;34m=\u001b[0m\u001b[0;34m\"liketohear\"\u001b[0m\u001b[0;34m)\u001b[0m\u001b[0;34m\u001b[0m\u001b[0;34m\u001b[0m\u001b[0m\n\u001b[0m\u001b[1;32m      5\u001b[0m \u001b[0mstdin\u001b[0m\u001b[0;34m,\u001b[0m \u001b[0mstdout\u001b[0m\u001b[0;34m,\u001b[0m \u001b[0mstderr\u001b[0m \u001b[0;34m=\u001b[0m \u001b[0mclient\u001b[0m\u001b[0;34m.\u001b[0m\u001b[0mexec_command\u001b[0m\u001b[0;34m(\u001b[0m\u001b[0;34m'ls -l'\u001b[0m\u001b[0;34m)\u001b[0m\u001b[0;34m\u001b[0m\u001b[0;34m\u001b[0m\u001b[0m\n",
      "\u001b[0;32m~/anaconda3/lib/python3.7/site-packages/paramiko/client.py\u001b[0m in \u001b[0;36mconnect\u001b[0;34m(self, hostname, port, username, password, pkey, key_filename, timeout, allow_agent, look_for_keys, compress, sock, gss_auth, gss_kex, gss_deleg_creds, gss_host, banner_timeout, auth_timeout, gss_trust_dns, passphrase, disabled_algorithms)\u001b[0m\n\u001b[1;32m    347\u001b[0m                         \u001b[0;32mexcept\u001b[0m\u001b[0;34m:\u001b[0m\u001b[0;34m\u001b[0m\u001b[0;34m\u001b[0m\u001b[0m\n\u001b[1;32m    348\u001b[0m                             \u001b[0;32mpass\u001b[0m\u001b[0;34m\u001b[0m\u001b[0;34m\u001b[0m\u001b[0m\n\u001b[0;32m--> 349\u001b[0;31m                     \u001b[0mretry_on_signal\u001b[0m\u001b[0;34m(\u001b[0m\u001b[0;32mlambda\u001b[0m\u001b[0;34m:\u001b[0m \u001b[0msock\u001b[0m\u001b[0;34m.\u001b[0m\u001b[0mconnect\u001b[0m\u001b[0;34m(\u001b[0m\u001b[0maddr\u001b[0m\u001b[0;34m)\u001b[0m\u001b[0;34m)\u001b[0m\u001b[0;34m\u001b[0m\u001b[0;34m\u001b[0m\u001b[0m\n\u001b[0m\u001b[1;32m    350\u001b[0m                     \u001b[0;31m# Break out of the loop on success\u001b[0m\u001b[0;34m\u001b[0m\u001b[0;34m\u001b[0m\u001b[0;34m\u001b[0m\u001b[0m\n\u001b[1;32m    351\u001b[0m                     \u001b[0;32mbreak\u001b[0m\u001b[0;34m\u001b[0m\u001b[0;34m\u001b[0m\u001b[0m\n",
      "\u001b[0;32m~/anaconda3/lib/python3.7/site-packages/paramiko/util.py\u001b[0m in \u001b[0;36mretry_on_signal\u001b[0;34m(function)\u001b[0m\n\u001b[1;32m    278\u001b[0m     \u001b[0;32mwhile\u001b[0m \u001b[0;32mTrue\u001b[0m\u001b[0;34m:\u001b[0m\u001b[0;34m\u001b[0m\u001b[0;34m\u001b[0m\u001b[0m\n\u001b[1;32m    279\u001b[0m         \u001b[0;32mtry\u001b[0m\u001b[0;34m:\u001b[0m\u001b[0;34m\u001b[0m\u001b[0;34m\u001b[0m\u001b[0m\n\u001b[0;32m--> 280\u001b[0;31m             \u001b[0;32mreturn\u001b[0m \u001b[0mfunction\u001b[0m\u001b[0;34m(\u001b[0m\u001b[0;34m)\u001b[0m\u001b[0;34m\u001b[0m\u001b[0;34m\u001b[0m\u001b[0m\n\u001b[0m\u001b[1;32m    281\u001b[0m         \u001b[0;32mexcept\u001b[0m \u001b[0mEnvironmentError\u001b[0m \u001b[0;32mas\u001b[0m \u001b[0me\u001b[0m\u001b[0;34m:\u001b[0m\u001b[0;34m\u001b[0m\u001b[0;34m\u001b[0m\u001b[0m\n\u001b[1;32m    282\u001b[0m             \u001b[0;32mif\u001b[0m \u001b[0me\u001b[0m\u001b[0;34m.\u001b[0m\u001b[0merrno\u001b[0m \u001b[0;34m!=\u001b[0m \u001b[0merrno\u001b[0m\u001b[0;34m.\u001b[0m\u001b[0mEINTR\u001b[0m\u001b[0;34m:\u001b[0m\u001b[0;34m\u001b[0m\u001b[0;34m\u001b[0m\u001b[0m\n",
      "\u001b[0;32m~/anaconda3/lib/python3.7/site-packages/paramiko/client.py\u001b[0m in \u001b[0;36m<lambda>\u001b[0;34m()\u001b[0m\n\u001b[1;32m    347\u001b[0m                         \u001b[0;32mexcept\u001b[0m\u001b[0;34m:\u001b[0m\u001b[0;34m\u001b[0m\u001b[0;34m\u001b[0m\u001b[0m\n\u001b[1;32m    348\u001b[0m                             \u001b[0;32mpass\u001b[0m\u001b[0;34m\u001b[0m\u001b[0;34m\u001b[0m\u001b[0m\n\u001b[0;32m--> 349\u001b[0;31m                     \u001b[0mretry_on_signal\u001b[0m\u001b[0;34m(\u001b[0m\u001b[0;32mlambda\u001b[0m\u001b[0;34m:\u001b[0m \u001b[0msock\u001b[0m\u001b[0;34m.\u001b[0m\u001b[0mconnect\u001b[0m\u001b[0;34m(\u001b[0m\u001b[0maddr\u001b[0m\u001b[0;34m)\u001b[0m\u001b[0;34m)\u001b[0m\u001b[0;34m\u001b[0m\u001b[0;34m\u001b[0m\u001b[0m\n\u001b[0m\u001b[1;32m    350\u001b[0m                     \u001b[0;31m# Break out of the loop on success\u001b[0m\u001b[0;34m\u001b[0m\u001b[0;34m\u001b[0m\u001b[0;34m\u001b[0m\u001b[0m\n\u001b[1;32m    351\u001b[0m                     \u001b[0;32mbreak\u001b[0m\u001b[0;34m\u001b[0m\u001b[0;34m\u001b[0m\u001b[0m\n",
      "\u001b[0;31mTimeoutError\u001b[0m: [Errno 110] Connection timed out"
     ]
    }
   ],
   "source": [
    "from paramiko import SSHClient\n",
    "client = SSHClient()\n",
    "client.load_system_host_keys()\n",
    "client.connect('172.24.1.1',username=\"pi\",password=\"liketohear\")\n",
    "stdin, stdout, stderr = client.exec_command('ls -l')"
   ]
  },
  {
   "cell_type": "code",
   "execution_count": null,
   "metadata": {
    "ExecuteTime": {
     "end_time": "2019-11-19T12:11:07.199284Z",
     "start_time": "2019-11-19T12:08:56.653Z"
    }
   },
   "outputs": [],
   "source": [
    "sftp_client = client.open_sftp()\n",
    "f = sftp_client.open(\"/media/user_interface.log\")\n",
    "\n",
    "lastLine = None\n",
    "\n",
    "f.read().decode(\"utf-8\") \n",
    "1"
   ]
  },
  {
   "cell_type": "code",
   "execution_count": null,
   "metadata": {
    "ExecuteTime": {
     "start_time": "2019-11-09T16:45:40.689Z"
    }
   },
   "outputs": [
    {
     "data": {
      "image/png": "[encoded data removed]",
      "text/plain": [
       "<Figure size 432x288 with 4 Axes>"
      ]
     },
     "metadata": {},
     "output_type": "display_data"
    },
    {
     "name": "stdout",
     "output_type": "stream",
     "text": [
      "hi\n"
     ]
    },
    {
     "name": "stderr",
     "output_type": "stream",
     "text": [
      "/home/john/anaconda3/lib/python3.7/site-packages/ipykernel_launcher.py:44: MatplotlibDeprecationWarning: Adding an axes using the same arguments as a previous axes currently reuses the earlier instance.  In a future version, a new instance will always be created and returned.  Meanwhile, this warning can be suppressed, and the future behavior ensured, by passing a unique label to each axes instance.\n",
      "/home/john/anaconda3/lib/python3.7/site-packages/ipykernel_launcher.py:47: MatplotlibDeprecationWarning: Adding an axes using the same arguments as a previous axes currently reuses the earlier instance.  In a future version, a new instance will always be created and returned.  Meanwhile, this warning can be suppressed, and the future behavior ensured, by passing a unique label to each axes instance.\n",
      "/home/john/anaconda3/lib/python3.7/site-packages/ipykernel_launcher.py:50: MatplotlibDeprecationWarning: Adding an axes using the same arguments as a previous axes currently reuses the earlier instance.  In a future version, a new instance will always be created and returned.  Meanwhile, this warning can be suppressed, and the future behavior ensured, by passing a unique label to each axes instance.\n",
      "/home/john/anaconda3/lib/python3.7/site-packages/ipykernel_launcher.py:56: MatplotlibDeprecationWarning: Adding an axes using the same arguments as a previous axes currently reuses the earlier instance.  In a future version, a new instance will always be created and returned.  Meanwhile, this warning can be suppressed, and the future behavior ensured, by passing a unique label to each axes instance.\n"
     ]
    }
   ],
   "source": [
    "%matplotlib inline\n",
    "import time\n",
    "import pylab as pl\n",
    "from IPython import display\n",
    "\n",
    "text=\"\"\n",
    "\n",
    "while True:\n",
    "    #time.sleep(5)\n",
    "    line =f.read().decode(\"utf-8\") \n",
    "    text+=line\n",
    "    \n",
    "    tmp_text=\"[\"+text+\"]\"\n",
    "    tmp_text=tmp_text.replace(\"}\\n{\",\"},{\")\n",
    "    print(\"hi\")\n",
    "    \n",
    "    j=json.loads(tmp_text)\n",
    "    \n",
    "\n",
    "    measures=[]\n",
    "    cur_presetx=0\n",
    "    cur_presety=0\n",
    "    cur_el={}\n",
    "    for el in j:\n",
    "        if \"data\" in el:\n",
    "            if \"presetx\" in el[\"data\"] and \"presety\" in el[\"data\"]:\n",
    "                cur_el[\"presetx\"]=el[\"data\"][\"presetx\"]\n",
    "                cur_el[\"presety\"]=el[\"data\"][\"presety\"]\n",
    "                measures+=[cur_el]    \n",
    "            else: #intensity data\n",
    "                decibels=get_decibels(el[\"msg\"])\n",
    "                el.update(decibels)\n",
    "                cur_el=el\n",
    "    df=pd.DataFrame(measures)\n",
    "    user_df=df[df[\"userid\"]==\"d\"]\n",
    "    df[\"date\"]=pd.to_datetime(df[\"date\"])\n",
    "\n",
    "    X=user_df[[\"1\",\"2\",\"3\",\"4\",\"5\",\"6\",\"7\",\"8\",\"9\"]]\n",
    "    y=user_df[\"presety\"]\n",
    "\n",
    "    #pred=model.predict(X)\n",
    "    \n",
    "    plt.tight_layout()\n",
    "    plt.subplot(411)\n",
    "    plt.title(\"real Y\")\n",
    "    plt.plot(y)\n",
    "    plt.subplot(412)\n",
    "    plt.title(\"Linear model\")\n",
    "    plt.plot(linear_model.predict(X))\n",
    "    plt.subplot(413)\n",
    "    plt.title(\"RandomForestRegressor \")\n",
    "    #plt.plot(savgol_filter(model.predict(X),51,2))\n",
    "    plt.plot(pd.Series(model.predict(X)).rolling(2).median())\n",
    "    #plt.plot(pd.Series(model.predict(X)))\n",
    "    \n",
    "    plt.subplot(414)\n",
    "    plt.title(\"Intensity\")\n",
    "    plt.plot(user_df[\"5\"].iloc[:])\n",
    "    #plt.show()\n",
    "    display.clear_output(wait=True)\n",
    "    display.display(pl.gcf())\n",
    "    "
   ]
  },
  {
   "cell_type": "code",
   "execution_count": 93,
   "metadata": {
    "ExecuteTime": {
     "end_time": "2019-11-09T15:57:22.828897Z",
     "start_time": "2019-11-09T15:57:22.784225Z"
    }
   },
   "outputs": [
    {
     "data": {
      "text/html": [
       "<div>\n",
       "<style scoped>\n",
       "    .dataframe tbody tr th:only-of-type {\n",
       "        vertical-align: middle;\n",
       "    }\n",
       "\n",
       "    .dataframe tbody tr th {\n",
       "        vertical-align: top;\n",
       "    }\n",
       "\n",
       "    .dataframe thead th {\n",
       "        text-align: right;\n",
       "    }\n",
       "</style>\n",
       "<table border=\"1\" class=\"dataframe\">\n",
       "  <thead>\n",
       "    <tr style=\"text-align: right;\">\n",
       "      <th></th>\n",
       "      <th>date</th>\n",
       "      <th>msg</th>\n",
       "      <th>userid</th>\n",
       "      <th>data</th>\n",
       "      <th>1</th>\n",
       "      <th>2</th>\n",
       "      <th>3</th>\n",
       "      <th>4</th>\n",
       "      <th>5</th>\n",
       "      <th>6</th>\n",
       "      <th>7</th>\n",
       "      <th>8</th>\n",
       "      <th>9</th>\n",
       "      <th>10</th>\n",
       "      <th>11</th>\n",
       "      <th>12</th>\n",
       "      <th>sum</th>\n",
       "      <th>presetx</th>\n",
       "      <th>presety</th>\n",
       "    </tr>\n",
       "  </thead>\n",
       "  <tbody>\n",
       "    <tr>\n",
       "      <td>0</td>\n",
       "      <td>2019-11-09 15:56:51</td>\n",
       "      <td># RMS level in dB\\n# vector&lt;float&gt; (monitor)\\n...</td>\n",
       "      <td>d</td>\n",
       "      <td>[]</td>\n",
       "      <td>65.852035</td>\n",
       "      <td>69.837128</td>\n",
       "      <td>59.862526</td>\n",
       "      <td>53.487545</td>\n",
       "      <td>48.222893</td>\n",
       "      <td>49.841667</td>\n",
       "      <td>65.526916</td>\n",
       "      <td>68.325684</td>\n",
       "      <td>58.939091</td>\n",
       "      <td>52.024185</td>\n",
       "      <td>46.524422</td>\n",
       "      <td>46.575256</td>\n",
       "      <td>685.019348</td>\n",
       "      <td>5</td>\n",
       "      <td>5</td>\n",
       "    </tr>\n",
       "    <tr>\n",
       "      <td>1</td>\n",
       "      <td>2019-11-09 15:56:52</td>\n",
       "      <td># RMS level in dB\\n# vector&lt;float&gt; (monitor)\\n...</td>\n",
       "      <td>d</td>\n",
       "      <td>[]</td>\n",
       "      <td>63.259468</td>\n",
       "      <td>63.094021</td>\n",
       "      <td>58.638168</td>\n",
       "      <td>53.444447</td>\n",
       "      <td>45.460400</td>\n",
       "      <td>37.623497</td>\n",
       "      <td>61.409740</td>\n",
       "      <td>62.466587</td>\n",
       "      <td>56.758747</td>\n",
       "      <td>52.017883</td>\n",
       "      <td>41.110313</td>\n",
       "      <td>36.029152</td>\n",
       "      <td>631.312424</td>\n",
       "      <td>5</td>\n",
       "      <td>5</td>\n",
       "    </tr>\n",
       "    <tr>\n",
       "      <td>2</td>\n",
       "      <td>2019-11-09 15:56:53</td>\n",
       "      <td># RMS level in dB\\n# vector&lt;float&gt; (monitor)\\n...</td>\n",
       "      <td>d</td>\n",
       "      <td>[]</td>\n",
       "      <td>67.067268</td>\n",
       "      <td>58.859829</td>\n",
       "      <td>50.536915</td>\n",
       "      <td>50.886555</td>\n",
       "      <td>48.043270</td>\n",
       "      <td>43.733871</td>\n",
       "      <td>65.907288</td>\n",
       "      <td>55.539391</td>\n",
       "      <td>49.006958</td>\n",
       "      <td>50.042172</td>\n",
       "      <td>44.185905</td>\n",
       "      <td>41.764965</td>\n",
       "      <td>625.574387</td>\n",
       "      <td>5</td>\n",
       "      <td>5</td>\n",
       "    </tr>\n",
       "    <tr>\n",
       "      <td>3</td>\n",
       "      <td>2019-11-09 15:56:54</td>\n",
       "      <td># RMS level in dB\\n# vector&lt;float&gt; (monitor)\\n...</td>\n",
       "      <td>d</td>\n",
       "      <td>[]</td>\n",
       "      <td>66.502602</td>\n",
       "      <td>66.080429</td>\n",
       "      <td>58.310089</td>\n",
       "      <td>55.978245</td>\n",
       "      <td>52.298332</td>\n",
       "      <td>47.910305</td>\n",
       "      <td>64.634666</td>\n",
       "      <td>65.947197</td>\n",
       "      <td>59.493465</td>\n",
       "      <td>52.698448</td>\n",
       "      <td>49.484501</td>\n",
       "      <td>44.768887</td>\n",
       "      <td>684.107166</td>\n",
       "      <td>5</td>\n",
       "      <td>5</td>\n",
       "    </tr>\n",
       "    <tr>\n",
       "      <td>4</td>\n",
       "      <td>2019-11-09 15:56:56</td>\n",
       "      <td># RMS level in dB\\n# vector&lt;float&gt; (monitor)\\n...</td>\n",
       "      <td>d</td>\n",
       "      <td>[]</td>\n",
       "      <td>78.771492</td>\n",
       "      <td>70.445068</td>\n",
       "      <td>60.253105</td>\n",
       "      <td>57.956436</td>\n",
       "      <td>50.204372</td>\n",
       "      <td>46.625668</td>\n",
       "      <td>77.713783</td>\n",
       "      <td>70.183517</td>\n",
       "      <td>58.051186</td>\n",
       "      <td>57.175083</td>\n",
       "      <td>52.122116</td>\n",
       "      <td>45.033630</td>\n",
       "      <td>724.535458</td>\n",
       "      <td>5</td>\n",
       "      <td>5</td>\n",
       "    </tr>\n",
       "    <tr>\n",
       "      <td>5</td>\n",
       "      <td>2019-11-09 15:56:57</td>\n",
       "      <td># RMS level in dB\\n# vector&lt;float&gt; (monitor)\\n...</td>\n",
       "      <td>d</td>\n",
       "      <td>[]</td>\n",
       "      <td>77.366409</td>\n",
       "      <td>73.326515</td>\n",
       "      <td>68.249466</td>\n",
       "      <td>58.804390</td>\n",
       "      <td>52.097774</td>\n",
       "      <td>49.516762</td>\n",
       "      <td>76.406746</td>\n",
       "      <td>72.447807</td>\n",
       "      <td>64.187729</td>\n",
       "      <td>56.595177</td>\n",
       "      <td>52.945023</td>\n",
       "      <td>44.562058</td>\n",
       "      <td>746.505856</td>\n",
       "      <td>5</td>\n",
       "      <td>5</td>\n",
       "    </tr>\n",
       "    <tr>\n",
       "      <td>6</td>\n",
       "      <td>2019-11-09 15:56:58</td>\n",
       "      <td># RMS level in dB\\n# vector&lt;float&gt; (monitor)\\n...</td>\n",
       "      <td>d</td>\n",
       "      <td>[]</td>\n",
       "      <td>70.995521</td>\n",
       "      <td>67.828484</td>\n",
       "      <td>55.941834</td>\n",
       "      <td>50.490066</td>\n",
       "      <td>50.536114</td>\n",
       "      <td>49.254879</td>\n",
       "      <td>70.932175</td>\n",
       "      <td>67.818649</td>\n",
       "      <td>53.886623</td>\n",
       "      <td>50.742203</td>\n",
       "      <td>47.490688</td>\n",
       "      <td>47.606831</td>\n",
       "      <td>683.524067</td>\n",
       "      <td>5</td>\n",
       "      <td>5</td>\n",
       "    </tr>\n",
       "    <tr>\n",
       "      <td>7</td>\n",
       "      <td>2019-11-09 15:56:59</td>\n",
       "      <td># RMS level in dB\\n# vector&lt;float&gt; (monitor)\\n...</td>\n",
       "      <td>d</td>\n",
       "      <td>[]</td>\n",
       "      <td>68.323357</td>\n",
       "      <td>74.102081</td>\n",
       "      <td>74.848831</td>\n",
       "      <td>60.962299</td>\n",
       "      <td>52.975155</td>\n",
       "      <td>50.416187</td>\n",
       "      <td>68.778320</td>\n",
       "      <td>72.274666</td>\n",
       "      <td>72.179092</td>\n",
       "      <td>56.549637</td>\n",
       "      <td>55.008827</td>\n",
       "      <td>44.171478</td>\n",
       "      <td>750.589931</td>\n",
       "      <td>5</td>\n",
       "      <td>5</td>\n",
       "    </tr>\n",
       "    <tr>\n",
       "      <td>8</td>\n",
       "      <td>2019-11-09 15:57:00</td>\n",
       "      <td># RMS level in dB\\n# vector&lt;float&gt; (monitor)\\n...</td>\n",
       "      <td>d</td>\n",
       "      <td>[]</td>\n",
       "      <td>79.188789</td>\n",
       "      <td>61.998009</td>\n",
       "      <td>63.760471</td>\n",
       "      <td>55.482273</td>\n",
       "      <td>52.930664</td>\n",
       "      <td>45.807896</td>\n",
       "      <td>78.410484</td>\n",
       "      <td>61.695976</td>\n",
       "      <td>62.884247</td>\n",
       "      <td>57.855267</td>\n",
       "      <td>49.969727</td>\n",
       "      <td>42.656570</td>\n",
       "      <td>712.640373</td>\n",
       "      <td>5</td>\n",
       "      <td>5</td>\n",
       "    </tr>\n",
       "    <tr>\n",
       "      <td>9</td>\n",
       "      <td>2019-11-09 15:57:01</td>\n",
       "      <td># RMS level in dB\\n# vector&lt;float&gt; (monitor)\\n...</td>\n",
       "      <td>d</td>\n",
       "      <td>[]</td>\n",
       "      <td>69.689301</td>\n",
       "      <td>59.381020</td>\n",
       "      <td>60.401711</td>\n",
       "      <td>52.769222</td>\n",
       "      <td>48.087692</td>\n",
       "      <td>42.505669</td>\n",
       "      <td>69.171425</td>\n",
       "      <td>59.798065</td>\n",
       "      <td>58.336143</td>\n",
       "      <td>51.364342</td>\n",
       "      <td>47.287338</td>\n",
       "      <td>39.773933</td>\n",
       "      <td>658.565861</td>\n",
       "      <td>5</td>\n",
       "      <td>5</td>\n",
       "    </tr>\n",
       "    <tr>\n",
       "      <td>10</td>\n",
       "      <td>2019-11-09 15:57:02</td>\n",
       "      <td># RMS level in dB\\n# vector&lt;float&gt; (monitor)\\n...</td>\n",
       "      <td>d</td>\n",
       "      <td>[]</td>\n",
       "      <td>63.089592</td>\n",
       "      <td>65.053833</td>\n",
       "      <td>51.986084</td>\n",
       "      <td>53.883133</td>\n",
       "      <td>44.037071</td>\n",
       "      <td>38.142849</td>\n",
       "      <td>61.680672</td>\n",
       "      <td>65.492851</td>\n",
       "      <td>53.416653</td>\n",
       "      <td>53.494957</td>\n",
       "      <td>42.902698</td>\n",
       "      <td>36.482414</td>\n",
       "      <td>629.662808</td>\n",
       "      <td>5</td>\n",
       "      <td>5</td>\n",
       "    </tr>\n",
       "    <tr>\n",
       "      <td>11</td>\n",
       "      <td>2019-11-09 15:57:03</td>\n",
       "      <td># RMS level in dB\\n# vector&lt;float&gt; (monitor)\\n...</td>\n",
       "      <td>d</td>\n",
       "      <td>[]</td>\n",
       "      <td>66.367691</td>\n",
       "      <td>60.076199</td>\n",
       "      <td>49.753921</td>\n",
       "      <td>56.635635</td>\n",
       "      <td>48.556827</td>\n",
       "      <td>49.813187</td>\n",
       "      <td>66.006805</td>\n",
       "      <td>59.834705</td>\n",
       "      <td>48.557644</td>\n",
       "      <td>54.553986</td>\n",
       "      <td>49.140018</td>\n",
       "      <td>46.448937</td>\n",
       "      <td>655.745556</td>\n",
       "      <td>5</td>\n",
       "      <td>5</td>\n",
       "    </tr>\n",
       "    <tr>\n",
       "      <td>12</td>\n",
       "      <td>2019-11-09 15:57:04</td>\n",
       "      <td># RMS level in dB\\n# vector&lt;float&gt; (monitor)\\n...</td>\n",
       "      <td>d</td>\n",
       "      <td>[]</td>\n",
       "      <td>67.504952</td>\n",
       "      <td>65.459412</td>\n",
       "      <td>53.668934</td>\n",
       "      <td>52.956573</td>\n",
       "      <td>45.819290</td>\n",
       "      <td>37.864777</td>\n",
       "      <td>65.384850</td>\n",
       "      <td>63.553501</td>\n",
       "      <td>50.486225</td>\n",
       "      <td>52.711777</td>\n",
       "      <td>44.934101</td>\n",
       "      <td>36.421528</td>\n",
       "      <td>636.765919</td>\n",
       "      <td>5</td>\n",
       "      <td>5</td>\n",
       "    </tr>\n",
       "    <tr>\n",
       "      <td>13</td>\n",
       "      <td>2019-11-09 15:57:05</td>\n",
       "      <td># RMS level in dB\\n# vector&lt;float&gt; (monitor)\\n...</td>\n",
       "      <td>d</td>\n",
       "      <td>[]</td>\n",
       "      <td>70.794487</td>\n",
       "      <td>66.885078</td>\n",
       "      <td>64.370567</td>\n",
       "      <td>56.661701</td>\n",
       "      <td>48.999191</td>\n",
       "      <td>41.410069</td>\n",
       "      <td>68.737579</td>\n",
       "      <td>64.038727</td>\n",
       "      <td>63.055325</td>\n",
       "      <td>54.797550</td>\n",
       "      <td>46.654205</td>\n",
       "      <td>41.471954</td>\n",
       "      <td>687.876434</td>\n",
       "      <td>5</td>\n",
       "      <td>5</td>\n",
       "    </tr>\n",
       "    <tr>\n",
       "      <td>14</td>\n",
       "      <td>2019-11-09 15:57:06</td>\n",
       "      <td># RMS level in dB\\n# vector&lt;float&gt; (monitor)\\n...</td>\n",
       "      <td>d</td>\n",
       "      <td>[]</td>\n",
       "      <td>79.410538</td>\n",
       "      <td>69.698135</td>\n",
       "      <td>61.496429</td>\n",
       "      <td>60.239868</td>\n",
       "      <td>48.086410</td>\n",
       "      <td>41.604481</td>\n",
       "      <td>77.760246</td>\n",
       "      <td>68.814217</td>\n",
       "      <td>58.145515</td>\n",
       "      <td>56.486443</td>\n",
       "      <td>50.008896</td>\n",
       "      <td>39.804367</td>\n",
       "      <td>711.555546</td>\n",
       "      <td>5</td>\n",
       "      <td>5</td>\n",
       "    </tr>\n",
       "  </tbody>\n",
       "</table>\n",
       "</div>"
      ],
      "text/plain": [
       "                  date                                                msg  \\\n",
       "0  2019-11-09 15:56:51  # RMS level in dB\\n# vector<float> (monitor)\\n...   \n",
       "1  2019-11-09 15:56:52  # RMS level in dB\\n# vector<float> (monitor)\\n...   \n",
       "2  2019-11-09 15:56:53  # RMS level in dB\\n# vector<float> (monitor)\\n...   \n",
       "3  2019-11-09 15:56:54  # RMS level in dB\\n# vector<float> (monitor)\\n...   \n",
       "4  2019-11-09 15:56:56  # RMS level in dB\\n# vector<float> (monitor)\\n...   \n",
       "5  2019-11-09 15:56:57  # RMS level in dB\\n# vector<float> (monitor)\\n...   \n",
       "6  2019-11-09 15:56:58  # RMS level in dB\\n# vector<float> (monitor)\\n...   \n",
       "7  2019-11-09 15:56:59  # RMS level in dB\\n# vector<float> (monitor)\\n...   \n",
       "8  2019-11-09 15:57:00  # RMS level in dB\\n# vector<float> (monitor)\\n...   \n",
       "9  2019-11-09 15:57:01  # RMS level in dB\\n# vector<float> (monitor)\\n...   \n",
       "10 2019-11-09 15:57:02  # RMS level in dB\\n# vector<float> (monitor)\\n...   \n",
       "11 2019-11-09 15:57:03  # RMS level in dB\\n# vector<float> (monitor)\\n...   \n",
       "12 2019-11-09 15:57:04  # RMS level in dB\\n# vector<float> (monitor)\\n...   \n",
       "13 2019-11-09 15:57:05  # RMS level in dB\\n# vector<float> (monitor)\\n...   \n",
       "14 2019-11-09 15:57:06  # RMS level in dB\\n# vector<float> (monitor)\\n...   \n",
       "\n",
       "   userid data          1          2          3          4          5  \\\n",
       "0       d   []  65.852035  69.837128  59.862526  53.487545  48.222893   \n",
       "1       d   []  63.259468  63.094021  58.638168  53.444447  45.460400   \n",
       "2       d   []  67.067268  58.859829  50.536915  50.886555  48.043270   \n",
       "3       d   []  66.502602  66.080429  58.310089  55.978245  52.298332   \n",
       "4       d   []  78.771492  70.445068  60.253105  57.956436  50.204372   \n",
       "5       d   []  77.366409  73.326515  68.249466  58.804390  52.097774   \n",
       "6       d   []  70.995521  67.828484  55.941834  50.490066  50.536114   \n",
       "7       d   []  68.323357  74.102081  74.848831  60.962299  52.975155   \n",
       "8       d   []  79.188789  61.998009  63.760471  55.482273  52.930664   \n",
       "9       d   []  69.689301  59.381020  60.401711  52.769222  48.087692   \n",
       "10      d   []  63.089592  65.053833  51.986084  53.883133  44.037071   \n",
       "11      d   []  66.367691  60.076199  49.753921  56.635635  48.556827   \n",
       "12      d   []  67.504952  65.459412  53.668934  52.956573  45.819290   \n",
       "13      d   []  70.794487  66.885078  64.370567  56.661701  48.999191   \n",
       "14      d   []  79.410538  69.698135  61.496429  60.239868  48.086410   \n",
       "\n",
       "            6          7          8          9         10         11  \\\n",
       "0   49.841667  65.526916  68.325684  58.939091  52.024185  46.524422   \n",
       "1   37.623497  61.409740  62.466587  56.758747  52.017883  41.110313   \n",
       "2   43.733871  65.907288  55.539391  49.006958  50.042172  44.185905   \n",
       "3   47.910305  64.634666  65.947197  59.493465  52.698448  49.484501   \n",
       "4   46.625668  77.713783  70.183517  58.051186  57.175083  52.122116   \n",
       "5   49.516762  76.406746  72.447807  64.187729  56.595177  52.945023   \n",
       "6   49.254879  70.932175  67.818649  53.886623  50.742203  47.490688   \n",
       "7   50.416187  68.778320  72.274666  72.179092  56.549637  55.008827   \n",
       "8   45.807896  78.410484  61.695976  62.884247  57.855267  49.969727   \n",
       "9   42.505669  69.171425  59.798065  58.336143  51.364342  47.287338   \n",
       "10  38.142849  61.680672  65.492851  53.416653  53.494957  42.902698   \n",
       "11  49.813187  66.006805  59.834705  48.557644  54.553986  49.140018   \n",
       "12  37.864777  65.384850  63.553501  50.486225  52.711777  44.934101   \n",
       "13  41.410069  68.737579  64.038727  63.055325  54.797550  46.654205   \n",
       "14  41.604481  77.760246  68.814217  58.145515  56.486443  50.008896   \n",
       "\n",
       "           12         sum  presetx  presety  \n",
       "0   46.575256  685.019348        5        5  \n",
       "1   36.029152  631.312424        5        5  \n",
       "2   41.764965  625.574387        5        5  \n",
       "3   44.768887  684.107166        5        5  \n",
       "4   45.033630  724.535458        5        5  \n",
       "5   44.562058  746.505856        5        5  \n",
       "6   47.606831  683.524067        5        5  \n",
       "7   44.171478  750.589931        5        5  \n",
       "8   42.656570  712.640373        5        5  \n",
       "9   39.773933  658.565861        5        5  \n",
       "10  36.482414  629.662808        5        5  \n",
       "11  46.448937  655.745556        5        5  \n",
       "12  36.421528  636.765919        5        5  \n",
       "13  41.471954  687.876434        5        5  \n",
       "14  39.804367  711.555546        5        5  "
      ]
     },
     "execution_count": 93,
     "metadata": {},
     "output_type": "execute_result"
    }
   ],
   "source": [
    "df"
   ]
  },
  {
   "cell_type": "code",
   "execution_count": null,
   "metadata": {},
   "outputs": [],
   "source": [
    "# Thanks for the very good organization, \n",
    "# meet like-minded people\n",
    "# Met a lot of interesting people, and am glad to \n",
    "\n",
    "x,y => (Poistion vom Bobbel auf der App)\n",
    "x  .. mehr Höen\n",
    "y .. Lautstärken\n",
    "\n",
    "Was will manwissen:\n",
    "    * Lautstärke vor Verstärkung\n",
    "    \n",
    "x,y in Abhängigkeit von Umgebungsssound\n",
    "\n",
    "Gleiche Soundsituation -> Muster erkennen\n",
    "Gleiche Soundsituationen ähnlich einstellen?\n",
    "\n",
    "pro Logging und pro Person \n",
    "\n",
    "keine relative Zeit.."
   ]
  }
 ],
 "metadata": {
  "kernelspec": {
   "display_name": "Python 3",
   "language": "python",
   "name": "python3"
  },
  "language_info": {
   "codemirror_mode": {
    "name": "ipython",
    "version": 3
   },
   "file_extension": ".py",
   "mimetype": "text/x-python",
   "name": "python",
   "nbconvert_exporter": "python",
   "pygments_lexer": "ipython3",
   "version": "3.7.4"
  },
  "toc": {
   "base_numbering": 1,
   "nav_menu": {},
   "number_sections": true,
   "sideBar": true,
   "skip_h1_title": false,
   "title_cell": "Table of Contents",
   "title_sidebar": "Contents",
   "toc_cell": false,
   "toc_position": {},
   "toc_section_display": true,
   "toc_window_display": true
  },
  "varInspector": {
   "cols": {
    "lenName": 16,
    "lenType": 16,
    "lenVar": 40
   },
   "kernels_config": {
    "python": {
     "delete_cmd_postfix": "",
     "delete_cmd_prefix": "del ",
     "library": "var_list.py",
     "varRefreshCmd": "print(var_dic_list())"
    },
    "r": {
     "delete_cmd_postfix": ") ",
     "delete_cmd_prefix": "rm(",
     "library": "var_list.r",
     "varRefreshCmd": "cat(var_dic_list()) "
    }
   },
   "types_to_exclude": [
    "module",
    "function",
    "builtin_function_or_method",
    "instance",
    "_Feature"
   ],
   "window_display": false
  }
 },
 "nbformat": 4,
 "nbformat_minor": 2
}
